{
  "nbformat": 4,
  "nbformat_minor": 0,
  "metadata": {
    "colab": {
      "name": "MNIST - CNN Model.ipynb",
      "version": "0.3.2",
      "provenance": []
    },
    "kernelspec": {
      "name": "python3",
      "display_name": "Python 3"
    },
    "accelerator": "GPU"
  },
  "cells": [
    {
      "metadata": {
        "slideshow": {
          "slide_type": "slide"
        },
        "id": "Eiv82QG6gcGI",
        "colab_type": "text"
      },
      "cell_type": "markdown",
      "source": [
        "# Handwritten digits classification problem\n",
        "\n",
        "Along this notebook I'll explain how to use the power of cloud computing using Azure Notebooks with a classical example: the handwritten digits classification problem using the [MNIST dataset](https://en.wikipedia.org/wiki/MNIST_database)."
      ]
    },
    {
      "metadata": {
        "slideshow": {
          "slide_type": "subslide"
        },
        "id": "XqBuYdVEgcGJ",
        "colab_type": "text"
      },
      "cell_type": "markdown",
      "source": [
        "For this classification problem we will use an architecture based on the **LeNet-5** ([*LeCunn et. al, 1998*](http://yann.lecun.com/exdb/publis/pdf/lecun-01a.pdf)), a known Convolutional Neural Network (CNN) architecture which will be described below.\n",
        "\n",
        "<br>\n",
        "The main Python package that we'll be using is [Keras](https://keras.io/)."
      ]
    },
    {
      "metadata": {
        "slideshow": {
          "slide_type": "subslide"
        },
        "id": "MrsxA-rfgcGL",
        "colab_type": "text"
      },
      "cell_type": "markdown",
      "source": [
        "### Problem statement:\n",
        "\n",
        "Before we tackle the problem with CNNs, let's understand what we'll be doing: \n",
        "If we write a digit, we want to be able to determine what digit we have written.\n",
        "\n",
        "#### What do we need to do?\n",
        "Train a Deep Learning model (in this case) using a known dataset: [MNIST](https://en.wikipedia.org/wiki/MNIST_database)."
      ]
    },
    {
      "metadata": {
        "slideshow": {
          "slide_type": "slide"
        },
        "id": "YUeqI8VSgcGM",
        "colab_type": "text"
      },
      "cell_type": "markdown",
      "source": [
        "## The MNIST dataset"
      ]
    },
    {
      "metadata": {
        "slideshow": {
          "slide_type": "fragment"
        },
        "id": "wsAZ3gragcGM",
        "colab_type": "code",
        "colab": {
          "base_uri": "https://localhost:8080/",
          "height": 395
        },
        "outputId": "0706d770-b21f-4dcc-efdc-eb98fd4b1ee1"
      },
      "cell_type": "code",
      "source": [
        "from IPython.display import HTML\n",
        "url = 'https://en.wikipedia.org/wiki/MNIST_database'\n",
        "iframe = '<iframe src=' + url + ' width=\"100%\" height=350></iframe>'\n",
        "HTML(iframe)"
      ],
      "execution_count": 2,
      "outputs": [
        {
          "output_type": "execute_result",
          "data": {
            "text/html": [
              "<iframe src=https://en.wikipedia.org/wiki/MNIST_database width=\"100%\" height=350></iframe>"
            ],
            "text/plain": [
              "<IPython.core.display.HTML object>"
            ]
          },
          "metadata": {
            "tags": []
          },
          "execution_count": 2
        }
      ]
    },
    {
      "metadata": {
        "slideshow": {
          "slide_type": "subslide"
        },
        "id": "BqCZOMTbgcGS",
        "colab_type": "text"
      },
      "cell_type": "markdown",
      "source": [
        "<center>\n",
        "    ![MNIST example](https://upload.wikimedia.org/wikipedia/commons/2/27/MnistExamples.png)\n",
        "    <span style=\"font-size:0.8em;\">Source: Wikipedia.</span>\n",
        "</center>"
      ]
    },
    {
      "metadata": {
        "slideshow": {
          "slide_type": "subslide"
        },
        "id": "h43Ef3iNgcGT",
        "colab_type": "text"
      },
      "cell_type": "markdown",
      "source": [
        "### Data preprocessing\n",
        "<br>\n",
        "**Good news:**\n",
        "\n",
        "*The MNIST dataset is already included in the Keras lib.*\n",
        "\n",
        "We just need to import it and split the dataset into training and testing subsets (in order to do a posterior test of accuracy)."
      ]
    },
    {
      "metadata": {
        "slideshow": {
          "slide_type": "subslide"
        },
        "id": "e07__kBCgcGT",
        "colab_type": "text"
      },
      "cell_type": "markdown",
      "source": [
        "### Importing the dataset:"
      ]
    },
    {
      "metadata": {
        "slideshow": {
          "slide_type": "fragment"
        },
        "id": "O7CmTIzjgcGV",
        "colab_type": "code",
        "colab": {
          "base_uri": "https://localhost:8080/",
          "height": 34
        },
        "outputId": "03c94d3e-d7f0-4b78-e096-68203bfc5600"
      },
      "cell_type": "code",
      "source": [
        "# Importing dataset from Keras:\n",
        "from keras.datasets import mnist\n",
        "from keras.utils import np_utils\n",
        "import matplotlib.pyplot as plt\n",
        "import numpy\n",
        "\n",
        "# We will fix a random seed for reproducibility:\n",
        "seed = 11\n",
        "numpy.random.seed(seed)"
      ],
      "execution_count": 3,
      "outputs": [
        {
          "output_type": "stream",
          "text": [
            "Using TensorFlow backend.\n"
          ],
          "name": "stderr"
        }
      ]
    },
    {
      "metadata": {
        "slideshow": {
          "slide_type": "subslide"
        },
        "id": "YAryhBjugcGY",
        "colab_type": "code",
        "colab": {
          "base_uri": "https://localhost:8080/",
          "height": 413
        },
        "outputId": "d2a595c9-d12f-4cd3-bfd6-522f3ad0946c"
      },
      "cell_type": "code",
      "source": [
        "# Load data:\n",
        "(X_train, y_train), (X_test, y_test) = mnist.load_data()\n",
        "\n",
        "# Display first element from (X_train, y_train):\n",
        "plt.title(\"First element from training dataset:\")\n",
        "plt.imshow(X_train[0], cmap=\"gray\")\n",
        "print(\"First label from training dataset: {}\".format(y_train[0]))"
      ],
      "execution_count": 4,
      "outputs": [
        {
          "output_type": "stream",
          "text": [
            "Downloading data from https://s3.amazonaws.com/img-datasets/mnist.npz\n",
            "11493376/11490434 [==============================] - 1s 0us/step\n",
            "First label from training dataset: 5\n"
          ],
          "name": "stdout"
        },
        {
          "output_type": "display_data",
          "data": {
            "image/png": "[encoded data removed]",
            "text/plain": [
              "<matplotlib.figure.Figure at 0x7f7e81bbeb00>"
            ]
          },
          "metadata": {
            "tags": []
          }
        }
      ]
    },
    {
      "metadata": {
        "slideshow": {
          "slide_type": "subslide"
        },
        "id": "cVbBHkJHgcGc",
        "colab_type": "text"
      },
      "cell_type": "markdown",
      "source": [
        "### Preprocess dataset:"
      ]
    },
    {
      "metadata": {
        "slideshow": {
          "slide_type": "fragment"
        },
        "id": "pOj5t88DgcGc",
        "colab_type": "code",
        "colab": {
          "base_uri": "https://localhost:8080/",
          "height": 51
        },
        "outputId": "191eaab3-5f55-4f71-f9e9-e6672a6abb4e"
      },
      "cell_type": "code",
      "source": [
        "# Reshape to be [samples][pixels][width][height]:\n",
        "X_train = X_train.reshape(X_train.shape[0], 1, 28, 28).astype('float32')\n",
        "X_test = X_test.reshape(X_test.shape[0], 1, 28, 28).astype('float32')\n",
        "\n",
        "# Normalize inputs from 0-255 to 0-1:\n",
        "X_train = X_train / 255\n",
        "X_test = X_test / 255\n",
        "\n",
        "# One hot encode outputs: \n",
        "y_train = np_utils.to_categorical(y_train)\n",
        "y_test = np_utils.to_categorical(y_test)\n",
        "num_classes = y_test.shape[1]\n",
        "\n",
        "# Let's checkout changes:\n",
        "print(\"New dimensions of first element in training set: {}\".format(X_train[0].shape))\n",
        "print(\"New label of first element in training set: {}\".format(y_train[0]))"
      ],
      "execution_count": 5,
      "outputs": [
        {
          "output_type": "stream",
          "text": [
            "New dimensions of first element in training set: (1, 28, 28)\n",
            "New label of first element in training set: [0. 0. 0. 0. 0. 1. 0. 0. 0. 0.]\n"
          ],
          "name": "stdout"
        }
      ]
    },
    {
      "metadata": {
        "slideshow": {
          "slide_type": "slide"
        },
        "id": "XX8qTgxhgcGg",
        "colab_type": "text"
      },
      "cell_type": "markdown",
      "source": [
        "## Let's talk about the model...\n",
        "\n",
        "We will be using a model based in the LeNet-5, which is a CNN with the following architecture:\n",
        "\n",
        "<center>\n",
        "    <img src=\"https://raw.githubusercontent.com/RodolfoFerro/CONISOFT2018/master/assets/LeNet-5.png\" width=\"70%\"><br>\n",
        "    <span style=\"font-size:0.5em;\">Source: ([*\"Gradient-Based Learning Applied to Document Recognition\", LeCunn et. al, 1998*](http://yann.lecun.com/exdb/publis/pdf/lecun-01a.pdf))</span>\n",
        "</center>"
      ]
    },
    {
      "metadata": {
        "slideshow": {
          "slide_type": "subslide"
        },
        "id": "3pvYG9y7gcGi",
        "colab_type": "text"
      },
      "cell_type": "markdown",
      "source": [
        "### Our architecture:\n",
        "\n",
        "<span style=\"font-size:0.8em;\">Created with: [*\"convnet-drawer\"*, see GitHub repo.](https://github.com/yu4u/convnet-drawer)</span>"
      ]
    },
    {
      "metadata": {
        "id": "sMTSGtGliaf2",
        "colab_type": "code",
        "colab": {
          "base_uri": "https://localhost:8080/",
          "height": 218
        },
        "outputId": "effae589-5ba1-4bf3-e794-fbf04bb2bb6c"
      },
      "cell_type": "code",
      "source": [
        "from IPython.display import SVG\n",
        "def show_svg():\n",
        "    return SVG(url='data:image/svg+xml;base64,PHN2ZyB4bWxucz0iaHR0cDovL3d3dy53My5vcmcvMjAwMC9zdmciIHhtbG5zOnhsaW5rPSJodHRw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%0D%0AeHQ+Cjwvc3ZnPg==')\n",
        "show_svg()"
      ],
      "execution_count": 6,
      "outputs": [
        {
          "output_type": "execute_result",
          "data": {
            "text/plain": [
              "<IPython.core.display.SVG object>"
            ],
            "image/svg+xml": "<svg height=\"196.61066018618493\" viewBox=\"-50 -94.30533009309246 535.052067270793 196.61066018618493\" width=\"535.052067270793\" xmlns=\"http://www.w3.org/2000/svg\" xmlns:xlink=\"http://www.w3.org/1999/xlink\">\n<line stroke=\"rgb(0, 0, 0)\" stroke-dasharray=\"none\" stroke-width=\"1\" x1=\"0\" x2=\"0\" y1=\"10.5\" y2=\"-17.5\"/>\n<line stroke=\"rgb(0, 0, 0)\" stroke-dasharray=\"1\" stroke-width=\"1\" x1=\"1.0\" x2=\"1.0\" y1=\"10.5\" y2=\"-17.5\"/>\n<line stroke=\"rgb(0, 0, 0)\" stroke-dasharray=\"none\" stroke-width=\"1\" x1=\"12.124355652982143\" x2=\"12.124355652982143\" y1=\"17.5\" y2=\"-10.5\"/>\n<line stroke=\"rgb(0, 0, 0)\" stroke-dasharray=\"none\" stroke-width=\"1\" x1=\"13.124355652982143\" x2=\"13.124355652982143\" y1=\"17.5\" y2=\"-10.5\"/>\n<line stroke=\"rgb(0, 0, 0)\" stroke-dasharray=\"none\" stroke-width=\"1\" x1=\"0\" x2=\"12.124355652982143\" y1=\"10.5\" y2=\"17.5\"/>\n<line stroke=\"rgb(0, 0, 0)\" stroke-dasharray=\"none\" stroke-width=\"1\" x1=\"0\" x2=\"12.124355652982143\" y1=\"-17.5\" y2=\"-10.5\"/>\n<line stroke=\"rgb(0, 0, 0)\" stroke-dasharray=\"1\" stroke-width=\"1\" x1=\"1.0\" x2=\"13.124355652982143\" y1=\"10.5\" y2=\"17.5\"/>\n<line stroke=\"rgb(0, 0, 0)\" stroke-dasharray=\"none\" stroke-width=\"1\" x1=\"1.0\" x2=\"13.124355652982143\" y1=\"-17.5\" y2=\"-10.5\"/>\n<line stroke=\"rgb(0, 0, 0)\" stroke-dasharray=\"1\" stroke-width=\"1\" x1=\"0\" x2=\"1.0\" y1=\"10.5\" y2=\"10.5\"/>\n<line stroke=\"rgb(0, 0, 0)\" stroke-dasharray=\"none\" stroke-width=\"1\" x1=\"12.124355652982143\" x2=\"13.124355652982143\" y1=\"17.5\" y2=\"17.5\"/>\n<line stroke=\"rgb(0, 0, 0)\" stroke-dasharray=\"none\" stroke-width=\"1\" x1=\"0\" x2=\"1.0\" y1=\"-17.5\" y2=\"-17.5\"/>\n<line stroke=\"rgb(0, 0, 0)\" stroke-dasharray=\"none\" stroke-width=\"1\" x1=\"12.124355652982143\" x2=\"13.124355652982143\" y1=\"-10.5\" y2=\"-10.5\"/>\n<text fill=\"rgb(0, 0, 0)\" font-family=\"arial\" font-size=\"8px\" text-anchor=\"middle\" x=\"6.562177826491071\" y=\"-26.5\">28x28x1</text>\n<line stroke=\"rgb(0, 0, 0)\" stroke-dasharray=\"none\" stroke-width=\"1\" x1=\"53.124355652982146\" x2=\"53.124355652982146\" y1=\"9.0\" y2=\"-15.0\"/>\n<line stroke=\"rgb(0, 0, 0)\" stroke-dasharray=\"1\" stroke-width=\"1\" x1=\"68.3192261763457\" x2=\"68.3192261763457\" y1=\"9.0\" y2=\"-15.0\"/>\n<line stroke=\"rgb(0, 0, 0)\" stroke-dasharray=\"none\" stroke-width=\"1\" x1=\"63.51666049839541\" x2=\"63.51666049839541\" y1=\"15.0\" y2=\"-9.0\"/>\n<line stroke=\"rgb(0, 0, 0)\" stroke-dasharray=\"none\" stroke-width=\"1\" x1=\"78.71153102175896\" x2=\"78.71153102175896\" y1=\"15.0\" y2=\"-9.0\"/>\n<line stroke=\"rgb(0, 0, 0)\" stroke-dasharray=\"none\" stroke-width=\"1\" x1=\"53.124355652982146\" x2=\"63.51666049839541\" y1=\"9.0\" y2=\"15.0\"/>\n<line stroke=\"rgb(0, 0, 0)\" stroke-dasharray=\"none\" stroke-width=\"1\" x1=\"53.124355652982146\" x2=\"63.51666049839541\" y1=\"-15.0\" y2=\"-9.0\"/>\n<line stroke=\"rgb(0, 0, 0)\" stroke-dasharray=\"1\" stroke-width=\"1\" x1=\"68.3192261763457\" x2=\"78.71153102175896\" y1=\"9.0\" y2=\"15.0\"/>\n<line stroke=\"rgb(0, 0, 0)\" stroke-dasharray=\"none\" stroke-width=\"1\" x1=\"68.3192261763457\" x2=\"78.71153102175896\" y1=\"-15.0\" y2=\"-9.0\"/>\n<line stroke=\"rgb(0, 0, 0)\" stroke-dasharray=\"1\" stroke-width=\"1\" x1=\"53.124355652982146\" x2=\"68.3192261763457\" y1=\"9.0\" y2=\"9.0\"/>\n<line stroke=\"rgb(0, 0, 0)\" stroke-dasharray=\"none\" stroke-width=\"1\" x1=\"63.51666049839541\" x2=\"78.71153102175896\" y1=\"15.0\" y2=\"15.0\"/>\n<line stroke=\"rgb(0, 0, 0)\" stroke-dasharray=\"none\" stroke-width=\"1\" x1=\"53.124355652982146\" x2=\"68.3192261763457\" y1=\"-15.0\" y2=\"-15.0\"/>\n<line stroke=\"rgb(0, 0, 0)\" stroke-dasharray=\"none\" stroke-width=\"1\" x1=\"63.51666049839541\" x2=\"78.71153102175896\" y1=\"-9.0\" y2=\"-9.0\"/>\n<text fill=\"rgb(0, 0, 0)\" font-family=\"arial\" font-size=\"8px\" text-anchor=\"middle\" x=\"65.91794333737056\" y=\"-24.0\">24x24x30</text>\n<line stroke=\"rgb(0, 0, 0)\" stroke-dasharray=\"none\" stroke-width=\"1\" x1=\"118.71153102175896\" x2=\"118.71153102175896\" y1=\"4.5\" y2=\"-7.5\"/>\n<line stroke=\"rgb(0, 0, 0)\" stroke-dasharray=\"1\" stroke-width=\"1\" x1=\"133.9064015451225\" x2=\"133.9064015451225\" y1=\"4.5\" y2=\"-7.5\"/>\n<line stroke=\"rgb(0, 0, 0)\" stroke-dasharray=\"none\" stroke-width=\"1\" x1=\"123.90768344446559\" x2=\"123.90768344446559\" y1=\"7.5\" y2=\"-4.5\"/>\n<line stroke=\"rgb(0, 0, 0)\" stroke-dasharray=\"none\" stroke-width=\"1\" x1=\"139.10255396782912\" x2=\"139.10255396782912\" y1=\"7.5\" y2=\"-4.5\"/>\n<line stroke=\"rgb(0, 0, 0)\" stroke-dasharray=\"none\" stroke-width=\"1\" x1=\"118.71153102175896\" x2=\"123.90768344446559\" y1=\"4.5\" y2=\"7.5\"/>\n<line stroke=\"rgb(0, 0, 0)\" stroke-dasharray=\"none\" stroke-width=\"1\" x1=\"118.71153102175896\" x2=\"123.90768344446559\" y1=\"-7.5\" y2=\"-4.5\"/>\n<line stroke=\"rgb(0, 0, 0)\" stroke-dasharray=\"1\" stroke-width=\"1\" x1=\"133.9064015451225\" x2=\"139.10255396782912\" y1=\"4.5\" y2=\"7.5\"/>\n<line stroke=\"rgb(0, 0, 0)\" stroke-dasharray=\"none\" stroke-width=\"1\" x1=\"133.9064015451225\" x2=\"139.10255396782912\" y1=\"-7.5\" y2=\"-4.5\"/>\n<line stroke=\"rgb(0, 0, 0)\" stroke-dasharray=\"1\" stroke-width=\"1\" x1=\"118.71153102175896\" x2=\"133.9064015451225\" y1=\"4.5\" y2=\"4.5\"/>\n<line stroke=\"rgb(0, 0, 0)\" stroke-dasharray=\"none\" stroke-width=\"1\" x1=\"123.90768344446559\" x2=\"139.10255396782912\" y1=\"7.5\" y2=\"7.5\"/>\n<line stroke=\"rgb(0, 0, 0)\" stroke-dasharray=\"none\" stroke-width=\"1\" x1=\"118.71153102175896\" x2=\"133.9064015451225\" y1=\"-7.5\" y2=\"-7.5\"/>\n<line stroke=\"rgb(0, 0, 0)\" stroke-dasharray=\"none\" stroke-width=\"1\" x1=\"123.90768344446559\" x2=\"139.10255396782912\" y1=\"-4.5\" y2=\"-4.5\"/>\n<text fill=\"rgb(0, 0, 0)\" font-family=\"arial\" font-size=\"8px\" text-anchor=\"middle\" x=\"128.90704249479404\" y=\"-16.5\">12x12x30</text>\n<line stroke=\"rgb(0, 0, 0)\" stroke-dasharray=\"none\" stroke-width=\"1\" x1=\"179.10255396782912\" x2=\"179.10255396782912\" y1=\"3.75\" y2=\"-6.25\"/>\n<line stroke=\"rgb(0, 0, 0)\" stroke-dasharray=\"1\" stroke-width=\"1\" x1=\"187.82971535511945\" x2=\"187.82971535511945\" y1=\"3.75\" y2=\"-6.25\"/>\n<line stroke=\"rgb(0, 0, 0)\" stroke-dasharray=\"none\" stroke-width=\"1\" x1=\"183.4326809867513\" x2=\"183.4326809867513\" y1=\"6.25\" y2=\"-3.75\"/>\n<line stroke=\"rgb(0, 0, 0)\" stroke-dasharray=\"none\" stroke-width=\"1\" x1=\"192.15984237404163\" x2=\"192.15984237404163\" y1=\"6.25\" y2=\"-3.75\"/>\n<line stroke=\"rgb(0, 0, 0)\" stroke-dasharray=\"none\" stroke-width=\"1\" x1=\"179.10255396782912\" x2=\"183.4326809867513\" y1=\"3.75\" y2=\"6.25\"/>\n<line stroke=\"rgb(0, 0, 0)\" stroke-dasharray=\"none\" stroke-width=\"1\" x1=\"179.10255396782912\" x2=\"183.4326809867513\" y1=\"-6.25\" y2=\"-3.75\"/>\n<line stroke=\"rgb(0, 0, 0)\" stroke-dasharray=\"1\" stroke-width=\"1\" x1=\"187.82971535511945\" x2=\"192.15984237404163\" y1=\"3.75\" y2=\"6.25\"/>\n<line stroke=\"rgb(0, 0, 0)\" stroke-dasharray=\"none\" stroke-width=\"1\" x1=\"187.82971535511945\" x2=\"192.15984237404163\" y1=\"-6.25\" y2=\"-3.75\"/>\n<line stroke=\"rgb(0, 0, 0)\" stroke-dasharray=\"1\" stroke-width=\"1\" x1=\"179.10255396782912\" x2=\"187.82971535511945\" y1=\"3.75\" y2=\"3.75\"/>\n<line stroke=\"rgb(0, 0, 0)\" stroke-dasharray=\"none\" stroke-width=\"1\" x1=\"183.4326809867513\" x2=\"192.15984237404163\" y1=\"6.25\" y2=\"6.25\"/>\n<line stroke=\"rgb(0, 0, 0)\" stroke-dasharray=\"none\" stroke-width=\"1\" x1=\"179.10255396782912\" x2=\"187.82971535511945\" y1=\"-6.25\" y2=\"-6.25\"/>\n<line stroke=\"rgb(0, 0, 0)\" stroke-dasharray=\"none\" stroke-width=\"1\" x1=\"183.4326809867513\" x2=\"192.15984237404163\" y1=\"-3.75\" y2=\"-3.75\"/>\n<text fill=\"rgb(0, 0, 0)\" font-family=\"arial\" font-size=\"8px\" text-anchor=\"middle\" x=\"185.63119817093536\" y=\"-15.25\">10x10x15</text>\n<line stroke=\"rgb(0, 0, 0)\" stroke-dasharray=\"none\" stroke-width=\"1\" x1=\"232.15984237404163\" x2=\"232.15984237404163\" y1=\"1.875\" y2=\"-3.125\"/>\n<line stroke=\"rgb(0, 0, 0)\" stroke-dasharray=\"1\" stroke-width=\"1\" x1=\"240.88700376133195\" x2=\"240.88700376133195\" y1=\"1.875\" y2=\"-3.125\"/>\n<line stroke=\"rgb(0, 0, 0)\" stroke-dasharray=\"none\" stroke-width=\"1\" x1=\"234.32490588350274\" x2=\"234.32490588350274\" y1=\"3.125\" y2=\"-1.875\"/>\n<line stroke=\"rgb(0, 0, 0)\" stroke-dasharray=\"none\" stroke-width=\"1\" x1=\"243.05206727079306\" x2=\"243.05206727079306\" y1=\"3.125\" y2=\"-1.875\"/>\n<line stroke=\"rgb(0, 0, 0)\" stroke-dasharray=\"none\" stroke-width=\"1\" x1=\"232.15984237404163\" x2=\"234.32490588350274\" y1=\"1.875\" y2=\"3.125\"/>\n<line stroke=\"rgb(0, 0, 0)\" stroke-dasharray=\"none\" stroke-width=\"1\" x1=\"232.15984237404163\" x2=\"234.32490588350274\" y1=\"-3.125\" y2=\"-1.875\"/>\n<line stroke=\"rgb(0, 0, 0)\" stroke-dasharray=\"1\" stroke-width=\"1\" x1=\"240.88700376133195\" x2=\"243.05206727079306\" y1=\"1.875\" y2=\"3.125\"/>\n<line stroke=\"rgb(0, 0, 0)\" stroke-dasharray=\"none\" stroke-width=\"1\" x1=\"240.88700376133195\" x2=\"243.05206727079306\" y1=\"-3.125\" y2=\"-1.875\"/>\n<line stroke=\"rgb(0, 0, 0)\" stroke-dasharray=\"1\" stroke-width=\"1\" x1=\"232.15984237404163\" x2=\"240.88700376133195\" y1=\"1.875\" y2=\"1.875\"/>\n<line stroke=\"rgb(0, 0, 0)\" stroke-dasharray=\"none\" stroke-width=\"1\" x1=\"234.32490588350274\" x2=\"243.05206727079306\" y1=\"3.125\" y2=\"3.125\"/>\n<line stroke=\"rgb(0, 0, 0)\" stroke-dasharray=\"none\" stroke-width=\"1\" x1=\"232.15984237404163\" x2=\"240.88700376133195\" y1=\"-3.125\" y2=\"-3.125\"/>\n<line stroke=\"rgb(0, 0, 0)\" stroke-dasharray=\"none\" stroke-width=\"1\" x1=\"234.32490588350274\" x2=\"243.05206727079306\" y1=\"-1.875\" y2=\"-1.875\"/>\n<text fill=\"rgb(0, 0, 0)\" font-family=\"arial\" font-size=\"8px\" text-anchor=\"middle\" x=\"237.60595482241735\" y=\"-12.125\">5x5x15</text>\n<line stroke=\"rgb(0, 0, 0)\" stroke-dasharray=\"none\" stroke-width=\"1\" x1=\"283.05206727079303\" x2=\"283.05206727079303\" y1=\"-57.30533009309247\" y2=\"57.30533009309247\"/>\n<line stroke=\"rgb(0, 0, 0)\" stroke-dasharray=\"none\" stroke-width=\"1\" x1=\"283.05206727079303\" x2=\"291.05206727079303\" y1=\"57.30533009309247\" y2=\"57.30533009309247\"/>\n<line stroke=\"rgb(0, 0, 0)\" stroke-dasharray=\"none\" stroke-width=\"1\" x1=\"291.05206727079303\" x2=\"291.05206727079303\" y1=\"57.30533009309247\" y2=\"-57.30533009309247\"/>\n<line stroke=\"rgb(0, 0, 0)\" stroke-dasharray=\"none\" stroke-width=\"1\" x1=\"291.05206727079303\" x2=\"283.05206727079303\" y1=\"-57.30533009309247\" y2=\"-57.30533009309247\"/>\n<text fill=\"rgb(0, 0, 0)\" font-family=\"arial\" font-size=\"8px\" text-anchor=\"middle\" x=\"287.05206727079303\" y=\"-66.30533009309246\">375</text>\n<line stroke=\"rgb(0, 0, 0)\" stroke-dasharray=\"none\" stroke-width=\"1\" x1=\"331.05206727079303\" x2=\"331.05206727079303\" y1=\"-24.251465064166375\" y2=\"24.251465064166375\"/>\n<line stroke=\"rgb(0, 0, 0)\" stroke-dasharray=\"none\" stroke-width=\"1\" x1=\"331.05206727079303\" x2=\"339.05206727079303\" y1=\"24.251465064166375\" y2=\"24.251465064166375\"/>\n<line stroke=\"rgb(0, 0, 0)\" stroke-dasharray=\"none\" stroke-width=\"1\" x1=\"339.05206727079303\" x2=\"339.05206727079303\" y1=\"24.251465064166375\" y2=\"-24.251465064166375\"/>\n<line stroke=\"rgb(0, 0, 0)\" stroke-dasharray=\"none\" stroke-width=\"1\" x1=\"339.05206727079303\" x2=\"331.05206727079303\" y1=\"-24.251465064166375\" y2=\"-24.251465064166375\"/>\n<text fill=\"rgb(0, 0, 0)\" font-family=\"arial\" font-size=\"8px\" text-anchor=\"middle\" x=\"335.05206727079303\" y=\"-33.251465064166375\">128</text>\n<line stroke=\"rgb(0, 0, 0)\" stroke-dasharray=\"none\" stroke-width=\"1\" x1=\"379.05206727079303\" x2=\"379.05206727079303\" y1=\"-11.43262629818316\" y2=\"11.43262629818316\"/>\n<line stroke=\"rgb(0, 0, 0)\" stroke-dasharray=\"none\" stroke-width=\"1\" x1=\"379.05206727079303\" x2=\"387.05206727079303\" y1=\"11.43262629818316\" y2=\"11.43262629818316\"/>\n<line stroke=\"rgb(0, 0, 0)\" stroke-dasharray=\"none\" stroke-width=\"1\" x1=\"387.05206727079303\" x2=\"387.05206727079303\" y1=\"11.43262629818316\" y2=\"-11.43262629818316\"/>\n<line stroke=\"rgb(0, 0, 0)\" stroke-dasharray=\"none\" stroke-width=\"1\" x1=\"387.05206727079303\" x2=\"379.05206727079303\" y1=\"-11.43262629818316\" y2=\"-11.43262629818316\"/>\n<text fill=\"rgb(0, 0, 0)\" font-family=\"arial\" font-size=\"8px\" text-anchor=\"middle\" x=\"383.05206727079303\" y=\"-20.43262629818316\">50</text>\n<line stroke=\"rgb(0, 0, 0)\" stroke-dasharray=\"none\" stroke-width=\"1\" x1=\"427.05206727079303\" x2=\"427.05206727079303\" y1=\"-3.1547867224009667\" y2=\"3.1547867224009667\"/>\n<line stroke=\"rgb(0, 0, 0)\" stroke-dasharray=\"none\" stroke-width=\"1\" x1=\"427.05206727079303\" x2=\"435.05206727079303\" y1=\"3.1547867224009667\" y2=\"3.1547867224009667\"/>\n<line stroke=\"rgb(0, 0, 0)\" stroke-dasharray=\"none\" stroke-width=\"1\" x1=\"435.05206727079303\" x2=\"435.05206727079303\" y1=\"3.1547867224009667\" y2=\"-3.1547867224009667\"/>\n<line stroke=\"rgb(0, 0, 0)\" stroke-dasharray=\"none\" stroke-width=\"1\" x1=\"435.05206727079303\" x2=\"427.05206727079303\" y1=\"-3.1547867224009667\" y2=\"-3.1547867224009667\"/>\n<text fill=\"rgb(0, 0, 0)\" font-family=\"arial\" font-size=\"8px\" text-anchor=\"middle\" x=\"431.05206727079303\" y=\"-12.154786722400967\">10</text>\n<line stroke=\"rgb(0, 0, 255)\" stroke-dasharray=\"none\" stroke-width=\"1\" x1=\"6.062177826491071\" x2=\"6.062177826491071\" y1=\"1.875\" y2=\"-3.125\"/>\n<line stroke=\"rgb(0, 0, 255)\" stroke-dasharray=\"1\" stroke-width=\"1\" x1=\"7.062177826491071\" x2=\"7.062177826491071\" y1=\"1.875\" y2=\"-3.125\"/>\n<line stroke=\"rgb(0, 0, 255)\" stroke-dasharray=\"none\" stroke-width=\"1\" x1=\"8.227241335952169\" x2=\"8.227241335952169\" y1=\"3.125\" y2=\"-1.875\"/>\n<line stroke=\"rgb(0, 0, 255)\" stroke-dasharray=\"none\" stroke-width=\"1\" x1=\"9.227241335952169\" x2=\"9.227241335952169\" y1=\"3.125\" y2=\"-1.875\"/>\n<line stroke=\"rgb(0, 0, 255)\" stroke-dasharray=\"none\" stroke-width=\"1\" x1=\"6.062177826491071\" x2=\"8.227241335952169\" y1=\"1.875\" y2=\"3.125\"/>\n<line stroke=\"rgb(0, 0, 255)\" stroke-dasharray=\"none\" stroke-width=\"1\" x1=\"6.062177826491071\" x2=\"8.227241335952169\" y1=\"-3.125\" y2=\"-1.875\"/>\n<line stroke=\"rgb(0, 0, 255)\" stroke-dasharray=\"1\" stroke-width=\"1\" x1=\"7.062177826491071\" x2=\"9.227241335952169\" y1=\"1.875\" y2=\"3.125\"/>\n<line stroke=\"rgb(0, 0, 255)\" stroke-dasharray=\"none\" stroke-width=\"1\" x1=\"7.062177826491071\" x2=\"9.227241335952169\" y1=\"-3.125\" y2=\"-1.875\"/>\n<line stroke=\"rgb(0, 0, 255)\" stroke-dasharray=\"1\" stroke-width=\"1\" x1=\"6.062177826491071\" x2=\"7.062177826491071\" y1=\"1.875\" y2=\"1.875\"/>\n<line stroke=\"rgb(0, 0, 255)\" stroke-dasharray=\"none\" stroke-width=\"1\" x1=\"8.227241335952169\" x2=\"9.227241335952169\" y1=\"3.125\" y2=\"3.125\"/>\n<line stroke=\"rgb(0, 0, 255)\" stroke-dasharray=\"none\" stroke-width=\"1\" x1=\"6.062177826491071\" x2=\"7.062177826491071\" y1=\"-3.125\" y2=\"-3.125\"/>\n<line stroke=\"rgb(0, 0, 255)\" stroke-dasharray=\"none\" stroke-width=\"1\" x1=\"8.227241335952169\" x2=\"9.227241335952169\" y1=\"-1.875\" y2=\"-1.875\"/>\n<line stroke=\"rgb(0, 0, 255)\" stroke-dasharray=\"none\" stroke-width=\"1\" x1=\"7.062177826491071\" x2=\"55.72243186433546\" y1=\"-3.125\" y2=\"-7.5\"/>\n<line stroke=\"rgb(0, 0, 255)\" stroke-dasharray=\"none\" stroke-width=\"1\" x1=\"9.227241335952169\" x2=\"55.72243186433546\" y1=\"3.125\" y2=\"-7.5\"/>\n<text fill=\"rgb(0, 0, 0)\" font-family=\"arial\" font-size=\"8px\" text-anchor=\"middle\" x=\"33.124355652982146\" y=\"34.5\">conv5x5, 30</text>\n<text fill=\"rgb(0, 0, 0)\" font-family=\"arial\" font-size=\"8px\" text-anchor=\"middle\" x=\"33.124355652982146\" y=\"42.5\">stride (1, 1)</text>\n<line stroke=\"rgb(0, 0, 255)\" stroke-dasharray=\"none\" stroke-width=\"1\" x1=\"58.32050807568878\" x2=\"58.32050807568878\" y1=\"0.75\" y2=\"-1.25\"/>\n<line stroke=\"rgb(0, 0, 255)\" stroke-dasharray=\"1\" stroke-width=\"1\" x1=\"73.51537859905233\" x2=\"73.51537859905233\" y1=\"0.75\" y2=\"-1.25\"/>\n<line stroke=\"rgb(0, 0, 255)\" stroke-dasharray=\"none\" stroke-width=\"1\" x1=\"59.18653347947322\" x2=\"59.18653347947322\" y1=\"1.25\" y2=\"-0.75\"/>\n<line stroke=\"rgb(0, 0, 255)\" stroke-dasharray=\"none\" stroke-width=\"1\" x1=\"74.38140400283676\" x2=\"74.38140400283676\" y1=\"1.25\" y2=\"-0.75\"/>\n<line stroke=\"rgb(0, 0, 255)\" stroke-dasharray=\"none\" stroke-width=\"1\" x1=\"58.32050807568878\" x2=\"59.18653347947322\" y1=\"0.75\" y2=\"1.25\"/>\n<line stroke=\"rgb(0, 0, 255)\" stroke-dasharray=\"none\" stroke-width=\"1\" x1=\"58.32050807568878\" x2=\"59.18653347947322\" y1=\"-1.25\" y2=\"-0.75\"/>\n<line stroke=\"rgb(0, 0, 255)\" stroke-dasharray=\"1\" stroke-width=\"1\" x1=\"73.51537859905233\" x2=\"74.38140400283676\" y1=\"0.75\" y2=\"1.25\"/>\n<line stroke=\"rgb(0, 0, 255)\" stroke-dasharray=\"none\" stroke-width=\"1\" x1=\"73.51537859905233\" x2=\"74.38140400283676\" y1=\"-1.25\" y2=\"-0.75\"/>\n<line stroke=\"rgb(0, 0, 255)\" stroke-dasharray=\"1\" stroke-width=\"1\" x1=\"58.32050807568878\" x2=\"73.51537859905233\" y1=\"0.75\" y2=\"0.75\"/>\n<line stroke=\"rgb(0, 0, 255)\" stroke-dasharray=\"none\" stroke-width=\"1\" x1=\"59.18653347947322\" x2=\"74.38140400283676\" y1=\"1.25\" y2=\"1.25\"/>\n<line stroke=\"rgb(0, 0, 255)\" stroke-dasharray=\"none\" stroke-width=\"1\" x1=\"58.32050807568878\" x2=\"73.51537859905233\" y1=\"-1.25\" y2=\"-1.25\"/>\n<line stroke=\"rgb(0, 0, 255)\" stroke-dasharray=\"none\" stroke-width=\"1\" x1=\"59.18653347947322\" x2=\"74.38140400283676\" y1=\"-0.75\" y2=\"-0.75\"/>\n<line stroke=\"rgb(0, 0, 255)\" stroke-dasharray=\"none\" stroke-width=\"1\" x1=\"73.51537859905233\" x2=\"120.01056912743562\" y1=\"-1.25\" y2=\"-3.75\"/>\n<line stroke=\"rgb(0, 0, 255)\" stroke-dasharray=\"none\" stroke-width=\"1\" x1=\"74.38140400283676\" x2=\"120.01056912743562\" y1=\"1.25\" y2=\"-3.75\"/>\n<text fill=\"rgb(0, 0, 0)\" font-family=\"arial\" font-size=\"8px\" text-anchor=\"middle\" x=\"98.71153102175896\" y=\"32.0\">maxpool2x2</text>\n<text fill=\"rgb(0, 0, 0)\" font-family=\"arial\" font-size=\"8px\" text-anchor=\"middle\" x=\"98.71153102175896\" y=\"40.0\">stride (2, 2)</text>\n<line stroke=\"rgb(0, 0, 255)\" stroke-dasharray=\"none\" stroke-width=\"1\" x1=\"121.30960723311227\" x2=\"121.30960723311227\" y1=\"1.125\" y2=\"-1.875\"/>\n<line stroke=\"rgb(0, 0, 255)\" stroke-dasharray=\"1\" stroke-width=\"1\" x1=\"136.5044777564758\" x2=\"136.5044777564758\" y1=\"1.125\" y2=\"-1.875\"/>\n<line stroke=\"rgb(0, 0, 255)\" stroke-dasharray=\"none\" stroke-width=\"1\" x1=\"122.60864533878893\" x2=\"122.60864533878893\" y1=\"1.875\" y2=\"-1.125\"/>\n<line stroke=\"rgb(0, 0, 255)\" stroke-dasharray=\"none\" stroke-width=\"1\" x1=\"137.8035158621525\" x2=\"137.8035158621525\" y1=\"1.875\" y2=\"-1.125\"/>\n<line stroke=\"rgb(0, 0, 255)\" stroke-dasharray=\"none\" stroke-width=\"1\" x1=\"121.30960723311227\" x2=\"122.60864533878893\" y1=\"1.125\" y2=\"1.875\"/>\n<line stroke=\"rgb(0, 0, 255)\" stroke-dasharray=\"none\" stroke-width=\"1\" x1=\"121.30960723311227\" x2=\"122.60864533878893\" y1=\"-1.875\" y2=\"-1.125\"/>\n<line stroke=\"rgb(0, 0, 255)\" stroke-dasharray=\"1\" stroke-width=\"1\" x1=\"136.5044777564758\" x2=\"137.8035158621525\" y1=\"1.125\" y2=\"1.875\"/>\n<line stroke=\"rgb(0, 0, 255)\" stroke-dasharray=\"none\" stroke-width=\"1\" x1=\"136.5044777564758\" x2=\"137.8035158621525\" y1=\"-1.875\" y2=\"-1.125\"/>\n<line stroke=\"rgb(0, 0, 255)\" stroke-dasharray=\"1\" stroke-width=\"1\" x1=\"121.30960723311227\" x2=\"136.5044777564758\" y1=\"1.125\" y2=\"1.125\"/>\n<line stroke=\"rgb(0, 0, 255)\" stroke-dasharray=\"none\" stroke-width=\"1\" x1=\"122.60864533878893\" x2=\"137.8035158621525\" y1=\"1.875\" y2=\"1.875\"/>\n<line stroke=\"rgb(0, 0, 255)\" stroke-dasharray=\"none\" stroke-width=\"1\" x1=\"121.30960723311227\" x2=\"136.5044777564758\" y1=\"-1.875\" y2=\"-1.875\"/>\n<line stroke=\"rgb(0, 0, 255)\" stroke-dasharray=\"none\" stroke-width=\"1\" x1=\"122.60864533878893\" x2=\"137.8035158621525\" y1=\"-1.125\" y2=\"-1.125\"/>\n<line stroke=\"rgb(0, 0, 255)\" stroke-dasharray=\"none\" stroke-width=\"1\" x1=\"136.5044777564758\" x2=\"180.18508572255968\" y1=\"-1.875\" y2=\"-3.125\"/>\n<line stroke=\"rgb(0, 0, 255)\" stroke-dasharray=\"none\" stroke-width=\"1\" x1=\"137.80351586215247\" x2=\"180.18508572255968\" y1=\"1.875\" y2=\"-3.125\"/>\n<text fill=\"rgb(0, 0, 0)\" font-family=\"arial\" font-size=\"8px\" text-anchor=\"middle\" x=\"159.10255396782912\" y=\"24.5\">conv3x3, 15</text>\n<text fill=\"rgb(0, 0, 0)\" font-family=\"arial\" font-size=\"8px\" text-anchor=\"middle\" x=\"159.10255396782912\" y=\"32.5\">stride (1, 1)</text>\n<line stroke=\"rgb(0, 0, 255)\" stroke-dasharray=\"none\" stroke-width=\"1\" x1=\"181.26761747729023\" x2=\"181.26761747729023\" y1=\"0.75\" y2=\"-1.25\"/>\n<line stroke=\"rgb(0, 0, 255)\" stroke-dasharray=\"1\" stroke-width=\"1\" x1=\"189.99477886458055\" x2=\"189.99477886458055\" y1=\"0.75\" y2=\"-1.25\"/>\n<line stroke=\"rgb(0, 0, 255)\" stroke-dasharray=\"none\" stroke-width=\"1\" x1=\"182.13364288107468\" x2=\"182.13364288107468\" y1=\"1.25\" y2=\"-0.75\"/>\n<line stroke=\"rgb(0, 0, 255)\" stroke-dasharray=\"none\" stroke-width=\"1\" x1=\"190.860804268365\" x2=\"190.860804268365\" y1=\"1.25\" y2=\"-0.75\"/>\n<line stroke=\"rgb(0, 0, 255)\" stroke-dasharray=\"none\" stroke-width=\"1\" x1=\"181.26761747729023\" x2=\"182.13364288107468\" y1=\"0.75\" y2=\"1.25\"/>\n<line stroke=\"rgb(0, 0, 255)\" stroke-dasharray=\"none\" stroke-width=\"1\" x1=\"181.26761747729023\" x2=\"182.13364288107468\" y1=\"-1.25\" y2=\"-0.75\"/>\n<line stroke=\"rgb(0, 0, 255)\" stroke-dasharray=\"1\" stroke-width=\"1\" x1=\"189.99477886458055\" x2=\"190.860804268365\" y1=\"0.75\" y2=\"1.25\"/>\n<line stroke=\"rgb(0, 0, 255)\" stroke-dasharray=\"none\" stroke-width=\"1\" x1=\"189.99477886458055\" x2=\"190.860804268365\" y1=\"-1.25\" y2=\"-0.75\"/>\n<line stroke=\"rgb(0, 0, 255)\" stroke-dasharray=\"1\" stroke-width=\"1\" x1=\"181.26761747729023\" x2=\"189.99477886458055\" y1=\"0.75\" y2=\"0.75\"/>\n<line stroke=\"rgb(0, 0, 255)\" stroke-dasharray=\"none\" stroke-width=\"1\" x1=\"182.13364288107468\" x2=\"190.860804268365\" y1=\"1.25\" y2=\"1.25\"/>\n<line stroke=\"rgb(0, 0, 255)\" stroke-dasharray=\"none\" stroke-width=\"1\" x1=\"181.26761747729023\" x2=\"189.99477886458055\" y1=\"-1.25\" y2=\"-1.25\"/>\n<line stroke=\"rgb(0, 0, 255)\" stroke-dasharray=\"none\" stroke-width=\"1\" x1=\"182.13364288107468\" x2=\"190.860804268365\" y1=\"-0.75\" y2=\"-0.75\"/>\n<line stroke=\"rgb(0, 0, 255)\" stroke-dasharray=\"none\" stroke-width=\"1\" x1=\"189.99477886458055\" x2=\"232.7011082514069\" y1=\"-1.25\" y2=\"-1.5625\"/>\n<line stroke=\"rgb(0, 0, 255)\" stroke-dasharray=\"none\" stroke-width=\"1\" x1=\"190.860804268365\" x2=\"232.7011082514069\" y1=\"1.25\" y2=\"-1.5625\"/>\n<text fill=\"rgb(0, 0, 0)\" font-family=\"arial\" font-size=\"8px\" text-anchor=\"middle\" x=\"212.15984237404163\" y=\"23.25\">maxpool2x2</text>\n<text fill=\"rgb(0, 0, 0)\" font-family=\"arial\" font-size=\"8px\" text-anchor=\"middle\" x=\"212.15984237404163\" y=\"31.25\">stride (2, 2)</text>\n<text fill=\"rgb(0, 0, 0)\" font-family=\"arial\" font-size=\"8px\" text-anchor=\"middle\" x=\"263.05206727079303\" y=\"74.30533009309246\">flatten</text>\n<line stroke=\"rgb(0, 0, 255)\" stroke-dasharray=\"2\" stroke-width=\"1\" x1=\"291.05206727079303\" x2=\"331.05206727079303\" y1=\"-57.30533009309247\" y2=\"-12.125732532083187\"/>\n<line stroke=\"rgb(0, 0, 255)\" stroke-dasharray=\"2\" stroke-width=\"1\" x1=\"291.05206727079303\" x2=\"331.05206727079303\" y1=\"57.30533009309247\" y2=\"-12.125732532083187\"/>\n<text fill=\"rgb(0, 0, 0)\" font-family=\"arial\" font-size=\"8px\" text-anchor=\"middle\" x=\"311.05206727079303\" y=\"74.30533009309246\">dense</text>\n<line stroke=\"rgb(0, 0, 255)\" stroke-dasharray=\"2\" stroke-width=\"1\" x1=\"339.05206727079303\" x2=\"379.05206727079303\" y1=\"-24.251465064166375\" y2=\"-5.71631314909158\"/>\n<line stroke=\"rgb(0, 0, 255)\" stroke-dasharray=\"2\" stroke-width=\"1\" x1=\"339.05206727079303\" x2=\"379.05206727079303\" y1=\"24.251465064166375\" y2=\"-5.71631314909158\"/>\n<text fill=\"rgb(0, 0, 0)\" font-family=\"arial\" font-size=\"8px\" text-anchor=\"middle\" x=\"359.05206727079303\" y=\"41.251465064166375\">dense</text>\n<line stroke=\"rgb(0, 0, 255)\" stroke-dasharray=\"2\" stroke-width=\"1\" x1=\"387.05206727079303\" x2=\"427.05206727079303\" y1=\"-11.43262629818316\" y2=\"-1.5773933612004833\"/>\n<line stroke=\"rgb(0, 0, 255)\" stroke-dasharray=\"2\" stroke-width=\"1\" x1=\"387.05206727079303\" x2=\"427.05206727079303\" y1=\"11.43262629818316\" y2=\"-1.5773933612004833\"/>\n<text fill=\"rgb(0, 0, 0)\" font-family=\"arial\" font-size=\"8px\" text-anchor=\"middle\" x=\"407.05206727079303\" y=\"28.43262629818316\">dense</text>\n</svg>"
          },
          "metadata": {
            "tags": []
          },
          "execution_count": 6
        }
      ]
    },
    {
      "metadata": {
        "slideshow": {
          "slide_type": "subslide"
        },
        "id": "xv1pTFIUgcGi",
        "colab_type": "text"
      },
      "cell_type": "markdown",
      "source": [
        "### Let's create the model with Keras!\n",
        "\n",
        "First of all, let's import what we'll use:"
      ]
    },
    {
      "metadata": {
        "slideshow": {
          "slide_type": "fragment"
        },
        "id": "vPI4ShoBgcGj",
        "colab_type": "code",
        "colab": {}
      },
      "cell_type": "code",
      "source": [
        "# Let's import our Keras stuff:\n",
        "from keras.models import Sequential\n",
        "from keras.layers import Dense\n",
        "from keras.layers import Dropout\n",
        "from keras.layers import Flatten\n",
        "from keras.layers.convolutional import Conv2D\n",
        "from keras.layers.convolutional import MaxPooling2D\n",
        "\n",
        "from keras import backend as K\n",
        "K.set_image_dim_ordering('th')"
      ],
      "execution_count": 0,
      "outputs": []
    },
    {
      "metadata": {
        "slideshow": {
          "slide_type": "subslide"
        },
        "id": "zAKjpZ32gcGn",
        "colab_type": "code",
        "colab": {}
      },
      "cell_type": "code",
      "source": [
        "def Pimped_LeNet5():\n",
        "    \"\"\"CNN model based on LeNet-5.\"\"\"\n",
        "    \n",
        "    # Create model:\n",
        "    model = Sequential()\n",
        "    model.add(Conv2D(30, (5, 5), input_shape=(1, 28, 28), activation='relu'))\n",
        "    model.add(MaxPooling2D(pool_size=(2, 2)))\n",
        "    \n",
        "    model.add(Conv2D(15, (3, 3), activation='relu'))\n",
        "    model.add(MaxPooling2D(pool_size=(2, 2)))\n",
        "    \n",
        "    model.add(Dropout(0.2))  # Let's try to avoid overfitting...\n",
        "    model.add(Flatten())\n",
        "    \n",
        "    model.add(Dense(128, activation='relu'))\n",
        "    model.add(Dense(50, activation='relu'))\n",
        "    model.add(Dense(num_classes, activation='softmax'))\n",
        "    \n",
        "    # Compile model:\n",
        "    model.compile(loss='categorical_crossentropy', optimizer='adam', metrics=['accuracy'])\n",
        "    \n",
        "    return model"
      ],
      "execution_count": 0,
      "outputs": []
    },
    {
      "metadata": {
        "slideshow": {
          "slide_type": "subslide"
        },
        "id": "RqThkB6PgcGp",
        "colab_type": "text"
      },
      "cell_type": "markdown",
      "source": [
        "### Our architecture:\n",
        "\n",
        "<span style=\"font-size:0.8em;\">Created with: [*\"convnet-drawer\"*, see GitHub repo.](https://github.com/yu4u/convnet-drawer)</span>"
      ]
    },
    {
      "metadata": {
        "id": "PDtf2JiglWI0",
        "colab_type": "code",
        "colab": {
          "base_uri": "https://localhost:8080/",
          "height": 218
        },
        "outputId": "ee986a2c-c343-4768-9647-c00791a96685"
      },
      "cell_type": "code",
      "source": [
        "show_svg()"
      ],
      "execution_count": 9,
      "outputs": [
        {
          "output_type": "execute_result",
          "data": {
            "text/plain": [
              "<IPython.core.display.SVG object>"
            ],
            "image/svg+xml": "<svg height=\"196.61066018618493\" viewBox=\"-50 -94.30533009309246 535.052067270793 196.61066018618493\" width=\"535.052067270793\" xmlns=\"http://www.w3.org/2000/svg\" xmlns:xlink=\"http://www.w3.org/1999/xlink\">\n<line stroke=\"rgb(0, 0, 0)\" stroke-dasharray=\"none\" stroke-width=\"1\" x1=\"0\" x2=\"0\" y1=\"10.5\" y2=\"-17.5\"/>\n<line stroke=\"rgb(0, 0, 0)\" stroke-dasharray=\"1\" stroke-width=\"1\" x1=\"1.0\" x2=\"1.0\" y1=\"10.5\" y2=\"-17.5\"/>\n<line stroke=\"rgb(0, 0, 0)\" stroke-dasharray=\"none\" stroke-width=\"1\" x1=\"12.124355652982143\" x2=\"12.124355652982143\" y1=\"17.5\" y2=\"-10.5\"/>\n<line stroke=\"rgb(0, 0, 0)\" stroke-dasharray=\"none\" stroke-width=\"1\" x1=\"13.124355652982143\" x2=\"13.124355652982143\" y1=\"17.5\" y2=\"-10.5\"/>\n<line stroke=\"rgb(0, 0, 0)\" stroke-dasharray=\"none\" stroke-width=\"1\" x1=\"0\" x2=\"12.124355652982143\" y1=\"10.5\" y2=\"17.5\"/>\n<line stroke=\"rgb(0, 0, 0)\" stroke-dasharray=\"none\" stroke-width=\"1\" x1=\"0\" x2=\"12.124355652982143\" y1=\"-17.5\" y2=\"-10.5\"/>\n<line stroke=\"rgb(0, 0, 0)\" stroke-dasharray=\"1\" stroke-width=\"1\" x1=\"1.0\" x2=\"13.124355652982143\" y1=\"10.5\" y2=\"17.5\"/>\n<line stroke=\"rgb(0, 0, 0)\" stroke-dasharray=\"none\" stroke-width=\"1\" x1=\"1.0\" x2=\"13.124355652982143\" y1=\"-17.5\" y2=\"-10.5\"/>\n<line stroke=\"rgb(0, 0, 0)\" stroke-dasharray=\"1\" stroke-width=\"1\" x1=\"0\" x2=\"1.0\" y1=\"10.5\" y2=\"10.5\"/>\n<line stroke=\"rgb(0, 0, 0)\" stroke-dasharray=\"none\" stroke-width=\"1\" x1=\"12.124355652982143\" x2=\"13.124355652982143\" y1=\"17.5\" y2=\"17.5\"/>\n<line stroke=\"rgb(0, 0, 0)\" stroke-dasharray=\"none\" stroke-width=\"1\" x1=\"0\" x2=\"1.0\" y1=\"-17.5\" y2=\"-17.5\"/>\n<line stroke=\"rgb(0, 0, 0)\" stroke-dasharray=\"none\" stroke-width=\"1\" x1=\"12.124355652982143\" x2=\"13.124355652982143\" y1=\"-10.5\" y2=\"-10.5\"/>\n<text fill=\"rgb(0, 0, 0)\" font-family=\"arial\" font-size=\"8px\" text-anchor=\"middle\" x=\"6.562177826491071\" y=\"-26.5\">28x28x1</text>\n<line stroke=\"rgb(0, 0, 0)\" stroke-dasharray=\"none\" stroke-width=\"1\" x1=\"53.124355652982146\" x2=\"53.124355652982146\" y1=\"9.0\" y2=\"-15.0\"/>\n<line stroke=\"rgb(0, 0, 0)\" stroke-dasharray=\"1\" stroke-width=\"1\" x1=\"68.3192261763457\" x2=\"68.3192261763457\" y1=\"9.0\" y2=\"-15.0\"/>\n<line stroke=\"rgb(0, 0, 0)\" stroke-dasharray=\"none\" stroke-width=\"1\" x1=\"63.51666049839541\" x2=\"63.51666049839541\" y1=\"15.0\" y2=\"-9.0\"/>\n<line stroke=\"rgb(0, 0, 0)\" stroke-dasharray=\"none\" stroke-width=\"1\" x1=\"78.71153102175896\" x2=\"78.71153102175896\" y1=\"15.0\" y2=\"-9.0\"/>\n<line stroke=\"rgb(0, 0, 0)\" stroke-dasharray=\"none\" stroke-width=\"1\" x1=\"53.124355652982146\" x2=\"63.51666049839541\" y1=\"9.0\" y2=\"15.0\"/>\n<line stroke=\"rgb(0, 0, 0)\" stroke-dasharray=\"none\" stroke-width=\"1\" x1=\"53.124355652982146\" x2=\"63.51666049839541\" y1=\"-15.0\" y2=\"-9.0\"/>\n<line stroke=\"rgb(0, 0, 0)\" stroke-dasharray=\"1\" stroke-width=\"1\" x1=\"68.3192261763457\" x2=\"78.71153102175896\" y1=\"9.0\" y2=\"15.0\"/>\n<line stroke=\"rgb(0, 0, 0)\" stroke-dasharray=\"none\" stroke-width=\"1\" x1=\"68.3192261763457\" x2=\"78.71153102175896\" y1=\"-15.0\" y2=\"-9.0\"/>\n<line stroke=\"rgb(0, 0, 0)\" stroke-dasharray=\"1\" stroke-width=\"1\" x1=\"53.124355652982146\" x2=\"68.3192261763457\" y1=\"9.0\" y2=\"9.0\"/>\n<line stroke=\"rgb(0, 0, 0)\" stroke-dasharray=\"none\" stroke-width=\"1\" x1=\"63.51666049839541\" x2=\"78.71153102175896\" y1=\"15.0\" y2=\"15.0\"/>\n<line stroke=\"rgb(0, 0, 0)\" stroke-dasharray=\"none\" stroke-width=\"1\" x1=\"53.124355652982146\" x2=\"68.3192261763457\" y1=\"-15.0\" y2=\"-15.0\"/>\n<line stroke=\"rgb(0, 0, 0)\" stroke-dasharray=\"none\" stroke-width=\"1\" x1=\"63.51666049839541\" x2=\"78.71153102175896\" y1=\"-9.0\" y2=\"-9.0\"/>\n<text fill=\"rgb(0, 0, 0)\" font-family=\"arial\" font-size=\"8px\" text-anchor=\"middle\" x=\"65.91794333737056\" y=\"-24.0\">24x24x30</text>\n<line stroke=\"rgb(0, 0, 0)\" stroke-dasharray=\"none\" stroke-width=\"1\" x1=\"118.71153102175896\" x2=\"118.71153102175896\" y1=\"4.5\" y2=\"-7.5\"/>\n<line stroke=\"rgb(0, 0, 0)\" stroke-dasharray=\"1\" stroke-width=\"1\" x1=\"133.9064015451225\" x2=\"133.9064015451225\" y1=\"4.5\" y2=\"-7.5\"/>\n<line stroke=\"rgb(0, 0, 0)\" stroke-dasharray=\"none\" stroke-width=\"1\" x1=\"123.90768344446559\" x2=\"123.90768344446559\" y1=\"7.5\" y2=\"-4.5\"/>\n<line stroke=\"rgb(0, 0, 0)\" stroke-dasharray=\"none\" stroke-width=\"1\" x1=\"139.10255396782912\" x2=\"139.10255396782912\" y1=\"7.5\" y2=\"-4.5\"/>\n<line stroke=\"rgb(0, 0, 0)\" stroke-dasharray=\"none\" stroke-width=\"1\" x1=\"118.71153102175896\" x2=\"123.90768344446559\" y1=\"4.5\" y2=\"7.5\"/>\n<line stroke=\"rgb(0, 0, 0)\" stroke-dasharray=\"none\" stroke-width=\"1\" x1=\"118.71153102175896\" x2=\"123.90768344446559\" y1=\"-7.5\" y2=\"-4.5\"/>\n<line stroke=\"rgb(0, 0, 0)\" stroke-dasharray=\"1\" stroke-width=\"1\" x1=\"133.9064015451225\" x2=\"139.10255396782912\" y1=\"4.5\" y2=\"7.5\"/>\n<line stroke=\"rgb(0, 0, 0)\" stroke-dasharray=\"none\" stroke-width=\"1\" x1=\"133.9064015451225\" x2=\"139.10255396782912\" y1=\"-7.5\" y2=\"-4.5\"/>\n<line stroke=\"rgb(0, 0, 0)\" stroke-dasharray=\"1\" stroke-width=\"1\" x1=\"118.71153102175896\" x2=\"133.9064015451225\" y1=\"4.5\" y2=\"4.5\"/>\n<line stroke=\"rgb(0, 0, 0)\" stroke-dasharray=\"none\" stroke-width=\"1\" x1=\"123.90768344446559\" x2=\"139.10255396782912\" y1=\"7.5\" y2=\"7.5\"/>\n<line stroke=\"rgb(0, 0, 0)\" stroke-dasharray=\"none\" stroke-width=\"1\" x1=\"118.71153102175896\" x2=\"133.9064015451225\" y1=\"-7.5\" y2=\"-7.5\"/>\n<line stroke=\"rgb(0, 0, 0)\" stroke-dasharray=\"none\" stroke-width=\"1\" x1=\"123.90768344446559\" x2=\"139.10255396782912\" y1=\"-4.5\" y2=\"-4.5\"/>\n<text fill=\"rgb(0, 0, 0)\" font-family=\"arial\" font-size=\"8px\" text-anchor=\"middle\" x=\"128.90704249479404\" y=\"-16.5\">12x12x30</text>\n<line stroke=\"rgb(0, 0, 0)\" stroke-dasharray=\"none\" stroke-width=\"1\" x1=\"179.10255396782912\" x2=\"179.10255396782912\" y1=\"3.75\" y2=\"-6.25\"/>\n<line stroke=\"rgb(0, 0, 0)\" stroke-dasharray=\"1\" stroke-width=\"1\" x1=\"187.82971535511945\" x2=\"187.82971535511945\" y1=\"3.75\" y2=\"-6.25\"/>\n<line stroke=\"rgb(0, 0, 0)\" stroke-dasharray=\"none\" stroke-width=\"1\" x1=\"183.4326809867513\" x2=\"183.4326809867513\" y1=\"6.25\" y2=\"-3.75\"/>\n<line stroke=\"rgb(0, 0, 0)\" stroke-dasharray=\"none\" stroke-width=\"1\" x1=\"192.15984237404163\" x2=\"192.15984237404163\" y1=\"6.25\" y2=\"-3.75\"/>\n<line stroke=\"rgb(0, 0, 0)\" stroke-dasharray=\"none\" stroke-width=\"1\" x1=\"179.10255396782912\" x2=\"183.4326809867513\" y1=\"3.75\" y2=\"6.25\"/>\n<line stroke=\"rgb(0, 0, 0)\" stroke-dasharray=\"none\" stroke-width=\"1\" x1=\"179.10255396782912\" x2=\"183.4326809867513\" y1=\"-6.25\" y2=\"-3.75\"/>\n<line stroke=\"rgb(0, 0, 0)\" stroke-dasharray=\"1\" stroke-width=\"1\" x1=\"187.82971535511945\" x2=\"192.15984237404163\" y1=\"3.75\" y2=\"6.25\"/>\n<line stroke=\"rgb(0, 0, 0)\" stroke-dasharray=\"none\" stroke-width=\"1\" x1=\"187.82971535511945\" x2=\"192.15984237404163\" y1=\"-6.25\" y2=\"-3.75\"/>\n<line stroke=\"rgb(0, 0, 0)\" stroke-dasharray=\"1\" stroke-width=\"1\" x1=\"179.10255396782912\" x2=\"187.82971535511945\" y1=\"3.75\" y2=\"3.75\"/>\n<line stroke=\"rgb(0, 0, 0)\" stroke-dasharray=\"none\" stroke-width=\"1\" x1=\"183.4326809867513\" x2=\"192.15984237404163\" y1=\"6.25\" y2=\"6.25\"/>\n<line stroke=\"rgb(0, 0, 0)\" stroke-dasharray=\"none\" stroke-width=\"1\" x1=\"179.10255396782912\" x2=\"187.82971535511945\" y1=\"-6.25\" y2=\"-6.25\"/>\n<line stroke=\"rgb(0, 0, 0)\" stroke-dasharray=\"none\" stroke-width=\"1\" x1=\"183.4326809867513\" x2=\"192.15984237404163\" y1=\"-3.75\" y2=\"-3.75\"/>\n<text fill=\"rgb(0, 0, 0)\" font-family=\"arial\" font-size=\"8px\" text-anchor=\"middle\" x=\"185.63119817093536\" y=\"-15.25\">10x10x15</text>\n<line stroke=\"rgb(0, 0, 0)\" stroke-dasharray=\"none\" stroke-width=\"1\" x1=\"232.15984237404163\" x2=\"232.15984237404163\" y1=\"1.875\" y2=\"-3.125\"/>\n<line stroke=\"rgb(0, 0, 0)\" stroke-dasharray=\"1\" stroke-width=\"1\" x1=\"240.88700376133195\" x2=\"240.88700376133195\" y1=\"1.875\" y2=\"-3.125\"/>\n<line stroke=\"rgb(0, 0, 0)\" stroke-dasharray=\"none\" stroke-width=\"1\" x1=\"234.32490588350274\" x2=\"234.32490588350274\" y1=\"3.125\" y2=\"-1.875\"/>\n<line stroke=\"rgb(0, 0, 0)\" stroke-dasharray=\"none\" stroke-width=\"1\" x1=\"243.05206727079306\" x2=\"243.05206727079306\" y1=\"3.125\" y2=\"-1.875\"/>\n<line stroke=\"rgb(0, 0, 0)\" stroke-dasharray=\"none\" stroke-width=\"1\" x1=\"232.15984237404163\" x2=\"234.32490588350274\" y1=\"1.875\" y2=\"3.125\"/>\n<line stroke=\"rgb(0, 0, 0)\" stroke-dasharray=\"none\" stroke-width=\"1\" x1=\"232.15984237404163\" x2=\"234.32490588350274\" y1=\"-3.125\" y2=\"-1.875\"/>\n<line stroke=\"rgb(0, 0, 0)\" stroke-dasharray=\"1\" stroke-width=\"1\" x1=\"240.88700376133195\" x2=\"243.05206727079306\" y1=\"1.875\" y2=\"3.125\"/>\n<line stroke=\"rgb(0, 0, 0)\" stroke-dasharray=\"none\" stroke-width=\"1\" x1=\"240.88700376133195\" x2=\"243.05206727079306\" y1=\"-3.125\" y2=\"-1.875\"/>\n<line stroke=\"rgb(0, 0, 0)\" stroke-dasharray=\"1\" stroke-width=\"1\" x1=\"232.15984237404163\" x2=\"240.88700376133195\" y1=\"1.875\" y2=\"1.875\"/>\n<line stroke=\"rgb(0, 0, 0)\" stroke-dasharray=\"none\" stroke-width=\"1\" x1=\"234.32490588350274\" x2=\"243.05206727079306\" y1=\"3.125\" y2=\"3.125\"/>\n<line stroke=\"rgb(0, 0, 0)\" stroke-dasharray=\"none\" stroke-width=\"1\" x1=\"232.15984237404163\" x2=\"240.88700376133195\" y1=\"-3.125\" y2=\"-3.125\"/>\n<line stroke=\"rgb(0, 0, 0)\" stroke-dasharray=\"none\" stroke-width=\"1\" x1=\"234.32490588350274\" x2=\"243.05206727079306\" y1=\"-1.875\" y2=\"-1.875\"/>\n<text fill=\"rgb(0, 0, 0)\" font-family=\"arial\" font-size=\"8px\" text-anchor=\"middle\" x=\"237.60595482241735\" y=\"-12.125\">5x5x15</text>\n<line stroke=\"rgb(0, 0, 0)\" stroke-dasharray=\"none\" stroke-width=\"1\" x1=\"283.05206727079303\" x2=\"283.05206727079303\" y1=\"-57.30533009309247\" y2=\"57.30533009309247\"/>\n<line stroke=\"rgb(0, 0, 0)\" stroke-dasharray=\"none\" stroke-width=\"1\" x1=\"283.05206727079303\" x2=\"291.05206727079303\" y1=\"57.30533009309247\" y2=\"57.30533009309247\"/>\n<line stroke=\"rgb(0, 0, 0)\" stroke-dasharray=\"none\" stroke-width=\"1\" x1=\"291.05206727079303\" x2=\"291.05206727079303\" y1=\"57.30533009309247\" y2=\"-57.30533009309247\"/>\n<line stroke=\"rgb(0, 0, 0)\" stroke-dasharray=\"none\" stroke-width=\"1\" x1=\"291.05206727079303\" x2=\"283.05206727079303\" y1=\"-57.30533009309247\" y2=\"-57.30533009309247\"/>\n<text fill=\"rgb(0, 0, 0)\" font-family=\"arial\" font-size=\"8px\" text-anchor=\"middle\" x=\"287.05206727079303\" y=\"-66.30533009309246\">375</text>\n<line stroke=\"rgb(0, 0, 0)\" stroke-dasharray=\"none\" stroke-width=\"1\" x1=\"331.05206727079303\" x2=\"331.05206727079303\" y1=\"-24.251465064166375\" y2=\"24.251465064166375\"/>\n<line stroke=\"rgb(0, 0, 0)\" stroke-dasharray=\"none\" stroke-width=\"1\" x1=\"331.05206727079303\" x2=\"339.05206727079303\" y1=\"24.251465064166375\" y2=\"24.251465064166375\"/>\n<line stroke=\"rgb(0, 0, 0)\" stroke-dasharray=\"none\" stroke-width=\"1\" x1=\"339.05206727079303\" x2=\"339.05206727079303\" y1=\"24.251465064166375\" y2=\"-24.251465064166375\"/>\n<line stroke=\"rgb(0, 0, 0)\" stroke-dasharray=\"none\" stroke-width=\"1\" x1=\"339.05206727079303\" x2=\"331.05206727079303\" y1=\"-24.251465064166375\" y2=\"-24.251465064166375\"/>\n<text fill=\"rgb(0, 0, 0)\" font-family=\"arial\" font-size=\"8px\" text-anchor=\"middle\" x=\"335.05206727079303\" y=\"-33.251465064166375\">128</text>\n<line stroke=\"rgb(0, 0, 0)\" stroke-dasharray=\"none\" stroke-width=\"1\" x1=\"379.05206727079303\" x2=\"379.05206727079303\" y1=\"-11.43262629818316\" y2=\"11.43262629818316\"/>\n<line stroke=\"rgb(0, 0, 0)\" stroke-dasharray=\"none\" stroke-width=\"1\" x1=\"379.05206727079303\" x2=\"387.05206727079303\" y1=\"11.43262629818316\" y2=\"11.43262629818316\"/>\n<line stroke=\"rgb(0, 0, 0)\" stroke-dasharray=\"none\" stroke-width=\"1\" x1=\"387.05206727079303\" x2=\"387.05206727079303\" y1=\"11.43262629818316\" y2=\"-11.43262629818316\"/>\n<line stroke=\"rgb(0, 0, 0)\" stroke-dasharray=\"none\" stroke-width=\"1\" x1=\"387.05206727079303\" x2=\"379.05206727079303\" y1=\"-11.43262629818316\" y2=\"-11.43262629818316\"/>\n<text fill=\"rgb(0, 0, 0)\" font-family=\"arial\" font-size=\"8px\" text-anchor=\"middle\" x=\"383.05206727079303\" y=\"-20.43262629818316\">50</text>\n<line stroke=\"rgb(0, 0, 0)\" stroke-dasharray=\"none\" stroke-width=\"1\" x1=\"427.05206727079303\" x2=\"427.05206727079303\" y1=\"-3.1547867224009667\" y2=\"3.1547867224009667\"/>\n<line stroke=\"rgb(0, 0, 0)\" stroke-dasharray=\"none\" stroke-width=\"1\" x1=\"427.05206727079303\" x2=\"435.05206727079303\" y1=\"3.1547867224009667\" y2=\"3.1547867224009667\"/>\n<line stroke=\"rgb(0, 0, 0)\" stroke-dasharray=\"none\" stroke-width=\"1\" x1=\"435.05206727079303\" x2=\"435.05206727079303\" y1=\"3.1547867224009667\" y2=\"-3.1547867224009667\"/>\n<line stroke=\"rgb(0, 0, 0)\" stroke-dasharray=\"none\" stroke-width=\"1\" x1=\"435.05206727079303\" x2=\"427.05206727079303\" y1=\"-3.1547867224009667\" y2=\"-3.1547867224009667\"/>\n<text fill=\"rgb(0, 0, 0)\" font-family=\"arial\" font-size=\"8px\" text-anchor=\"middle\" x=\"431.05206727079303\" y=\"-12.154786722400967\">10</text>\n<line stroke=\"rgb(0, 0, 255)\" stroke-dasharray=\"none\" stroke-width=\"1\" x1=\"6.062177826491071\" x2=\"6.062177826491071\" y1=\"1.875\" y2=\"-3.125\"/>\n<line stroke=\"rgb(0, 0, 255)\" stroke-dasharray=\"1\" stroke-width=\"1\" x1=\"7.062177826491071\" x2=\"7.062177826491071\" y1=\"1.875\" y2=\"-3.125\"/>\n<line stroke=\"rgb(0, 0, 255)\" stroke-dasharray=\"none\" stroke-width=\"1\" x1=\"8.227241335952169\" x2=\"8.227241335952169\" y1=\"3.125\" y2=\"-1.875\"/>\n<line stroke=\"rgb(0, 0, 255)\" stroke-dasharray=\"none\" stroke-width=\"1\" x1=\"9.227241335952169\" x2=\"9.227241335952169\" y1=\"3.125\" y2=\"-1.875\"/>\n<line stroke=\"rgb(0, 0, 255)\" stroke-dasharray=\"none\" stroke-width=\"1\" x1=\"6.062177826491071\" x2=\"8.227241335952169\" y1=\"1.875\" y2=\"3.125\"/>\n<line stroke=\"rgb(0, 0, 255)\" stroke-dasharray=\"none\" stroke-width=\"1\" x1=\"6.062177826491071\" x2=\"8.227241335952169\" y1=\"-3.125\" y2=\"-1.875\"/>\n<line stroke=\"rgb(0, 0, 255)\" stroke-dasharray=\"1\" stroke-width=\"1\" x1=\"7.062177826491071\" x2=\"9.227241335952169\" y1=\"1.875\" y2=\"3.125\"/>\n<line stroke=\"rgb(0, 0, 255)\" stroke-dasharray=\"none\" stroke-width=\"1\" x1=\"7.062177826491071\" x2=\"9.227241335952169\" y1=\"-3.125\" y2=\"-1.875\"/>\n<line stroke=\"rgb(0, 0, 255)\" stroke-dasharray=\"1\" stroke-width=\"1\" x1=\"6.062177826491071\" x2=\"7.062177826491071\" y1=\"1.875\" y2=\"1.875\"/>\n<line stroke=\"rgb(0, 0, 255)\" stroke-dasharray=\"none\" stroke-width=\"1\" x1=\"8.227241335952169\" x2=\"9.227241335952169\" y1=\"3.125\" y2=\"3.125\"/>\n<line stroke=\"rgb(0, 0, 255)\" stroke-dasharray=\"none\" stroke-width=\"1\" x1=\"6.062177826491071\" x2=\"7.062177826491071\" y1=\"-3.125\" y2=\"-3.125\"/>\n<line stroke=\"rgb(0, 0, 255)\" stroke-dasharray=\"none\" stroke-width=\"1\" x1=\"8.227241335952169\" x2=\"9.227241335952169\" y1=\"-1.875\" y2=\"-1.875\"/>\n<line stroke=\"rgb(0, 0, 255)\" stroke-dasharray=\"none\" stroke-width=\"1\" x1=\"7.062177826491071\" x2=\"55.72243186433546\" y1=\"-3.125\" y2=\"-7.5\"/>\n<line stroke=\"rgb(0, 0, 255)\" stroke-dasharray=\"none\" stroke-width=\"1\" x1=\"9.227241335952169\" x2=\"55.72243186433546\" y1=\"3.125\" y2=\"-7.5\"/>\n<text fill=\"rgb(0, 0, 0)\" font-family=\"arial\" font-size=\"8px\" text-anchor=\"middle\" x=\"33.124355652982146\" y=\"34.5\">conv5x5, 30</text>\n<text fill=\"rgb(0, 0, 0)\" font-family=\"arial\" font-size=\"8px\" text-anchor=\"middle\" x=\"33.124355652982146\" y=\"42.5\">stride (1, 1)</text>\n<line stroke=\"rgb(0, 0, 255)\" stroke-dasharray=\"none\" stroke-width=\"1\" x1=\"58.32050807568878\" x2=\"58.32050807568878\" y1=\"0.75\" y2=\"-1.25\"/>\n<line stroke=\"rgb(0, 0, 255)\" stroke-dasharray=\"1\" stroke-width=\"1\" x1=\"73.51537859905233\" x2=\"73.51537859905233\" y1=\"0.75\" y2=\"-1.25\"/>\n<line stroke=\"rgb(0, 0, 255)\" stroke-dasharray=\"none\" stroke-width=\"1\" x1=\"59.18653347947322\" x2=\"59.18653347947322\" y1=\"1.25\" y2=\"-0.75\"/>\n<line stroke=\"rgb(0, 0, 255)\" stroke-dasharray=\"none\" stroke-width=\"1\" x1=\"74.38140400283676\" x2=\"74.38140400283676\" y1=\"1.25\" y2=\"-0.75\"/>\n<line stroke=\"rgb(0, 0, 255)\" stroke-dasharray=\"none\" stroke-width=\"1\" x1=\"58.32050807568878\" x2=\"59.18653347947322\" y1=\"0.75\" y2=\"1.25\"/>\n<line stroke=\"rgb(0, 0, 255)\" stroke-dasharray=\"none\" stroke-width=\"1\" x1=\"58.32050807568878\" x2=\"59.18653347947322\" y1=\"-1.25\" y2=\"-0.75\"/>\n<line stroke=\"rgb(0, 0, 255)\" stroke-dasharray=\"1\" stroke-width=\"1\" x1=\"73.51537859905233\" x2=\"74.38140400283676\" y1=\"0.75\" y2=\"1.25\"/>\n<line stroke=\"rgb(0, 0, 255)\" stroke-dasharray=\"none\" stroke-width=\"1\" x1=\"73.51537859905233\" x2=\"74.38140400283676\" y1=\"-1.25\" y2=\"-0.75\"/>\n<line stroke=\"rgb(0, 0, 255)\" stroke-dasharray=\"1\" stroke-width=\"1\" x1=\"58.32050807568878\" x2=\"73.51537859905233\" y1=\"0.75\" y2=\"0.75\"/>\n<line stroke=\"rgb(0, 0, 255)\" stroke-dasharray=\"none\" stroke-width=\"1\" x1=\"59.18653347947322\" x2=\"74.38140400283676\" y1=\"1.25\" y2=\"1.25\"/>\n<line stroke=\"rgb(0, 0, 255)\" stroke-dasharray=\"none\" stroke-width=\"1\" x1=\"58.32050807568878\" x2=\"73.51537859905233\" y1=\"-1.25\" y2=\"-1.25\"/>\n<line stroke=\"rgb(0, 0, 255)\" stroke-dasharray=\"none\" stroke-width=\"1\" x1=\"59.18653347947322\" x2=\"74.38140400283676\" y1=\"-0.75\" y2=\"-0.75\"/>\n<line stroke=\"rgb(0, 0, 255)\" stroke-dasharray=\"none\" stroke-width=\"1\" x1=\"73.51537859905233\" x2=\"120.01056912743562\" y1=\"-1.25\" y2=\"-3.75\"/>\n<line stroke=\"rgb(0, 0, 255)\" stroke-dasharray=\"none\" stroke-width=\"1\" x1=\"74.38140400283676\" x2=\"120.01056912743562\" y1=\"1.25\" y2=\"-3.75\"/>\n<text fill=\"rgb(0, 0, 0)\" font-family=\"arial\" font-size=\"8px\" text-anchor=\"middle\" x=\"98.71153102175896\" y=\"32.0\">maxpool2x2</text>\n<text fill=\"rgb(0, 0, 0)\" font-family=\"arial\" font-size=\"8px\" text-anchor=\"middle\" x=\"98.71153102175896\" y=\"40.0\">stride (2, 2)</text>\n<line stroke=\"rgb(0, 0, 255)\" stroke-dasharray=\"none\" stroke-width=\"1\" x1=\"121.30960723311227\" x2=\"121.30960723311227\" y1=\"1.125\" y2=\"-1.875\"/>\n<line stroke=\"rgb(0, 0, 255)\" stroke-dasharray=\"1\" stroke-width=\"1\" x1=\"136.5044777564758\" x2=\"136.5044777564758\" y1=\"1.125\" y2=\"-1.875\"/>\n<line stroke=\"rgb(0, 0, 255)\" stroke-dasharray=\"none\" stroke-width=\"1\" x1=\"122.60864533878893\" x2=\"122.60864533878893\" y1=\"1.875\" y2=\"-1.125\"/>\n<line stroke=\"rgb(0, 0, 255)\" stroke-dasharray=\"none\" stroke-width=\"1\" x1=\"137.8035158621525\" x2=\"137.8035158621525\" y1=\"1.875\" y2=\"-1.125\"/>\n<line stroke=\"rgb(0, 0, 255)\" stroke-dasharray=\"none\" stroke-width=\"1\" x1=\"121.30960723311227\" x2=\"122.60864533878893\" y1=\"1.125\" y2=\"1.875\"/>\n<line stroke=\"rgb(0, 0, 255)\" stroke-dasharray=\"none\" stroke-width=\"1\" x1=\"121.30960723311227\" x2=\"122.60864533878893\" y1=\"-1.875\" y2=\"-1.125\"/>\n<line stroke=\"rgb(0, 0, 255)\" stroke-dasharray=\"1\" stroke-width=\"1\" x1=\"136.5044777564758\" x2=\"137.8035158621525\" y1=\"1.125\" y2=\"1.875\"/>\n<line stroke=\"rgb(0, 0, 255)\" stroke-dasharray=\"none\" stroke-width=\"1\" x1=\"136.5044777564758\" x2=\"137.8035158621525\" y1=\"-1.875\" y2=\"-1.125\"/>\n<line stroke=\"rgb(0, 0, 255)\" stroke-dasharray=\"1\" stroke-width=\"1\" x1=\"121.30960723311227\" x2=\"136.5044777564758\" y1=\"1.125\" y2=\"1.125\"/>\n<line stroke=\"rgb(0, 0, 255)\" stroke-dasharray=\"none\" stroke-width=\"1\" x1=\"122.60864533878893\" x2=\"137.8035158621525\" y1=\"1.875\" y2=\"1.875\"/>\n<line stroke=\"rgb(0, 0, 255)\" stroke-dasharray=\"none\" stroke-width=\"1\" x1=\"121.30960723311227\" x2=\"136.5044777564758\" y1=\"-1.875\" y2=\"-1.875\"/>\n<line stroke=\"rgb(0, 0, 255)\" stroke-dasharray=\"none\" stroke-width=\"1\" x1=\"122.60864533878893\" x2=\"137.8035158621525\" y1=\"-1.125\" y2=\"-1.125\"/>\n<line stroke=\"rgb(0, 0, 255)\" stroke-dasharray=\"none\" stroke-width=\"1\" x1=\"136.5044777564758\" x2=\"180.18508572255968\" y1=\"-1.875\" y2=\"-3.125\"/>\n<line stroke=\"rgb(0, 0, 255)\" stroke-dasharray=\"none\" stroke-width=\"1\" x1=\"137.80351586215247\" x2=\"180.18508572255968\" y1=\"1.875\" y2=\"-3.125\"/>\n<text fill=\"rgb(0, 0, 0)\" font-family=\"arial\" font-size=\"8px\" text-anchor=\"middle\" x=\"159.10255396782912\" y=\"24.5\">conv3x3, 15</text>\n<text fill=\"rgb(0, 0, 0)\" font-family=\"arial\" font-size=\"8px\" text-anchor=\"middle\" x=\"159.10255396782912\" y=\"32.5\">stride (1, 1)</text>\n<line stroke=\"rgb(0, 0, 255)\" stroke-dasharray=\"none\" stroke-width=\"1\" x1=\"181.26761747729023\" x2=\"181.26761747729023\" y1=\"0.75\" y2=\"-1.25\"/>\n<line stroke=\"rgb(0, 0, 255)\" stroke-dasharray=\"1\" stroke-width=\"1\" x1=\"189.99477886458055\" x2=\"189.99477886458055\" y1=\"0.75\" y2=\"-1.25\"/>\n<line stroke=\"rgb(0, 0, 255)\" stroke-dasharray=\"none\" stroke-width=\"1\" x1=\"182.13364288107468\" x2=\"182.13364288107468\" y1=\"1.25\" y2=\"-0.75\"/>\n<line stroke=\"rgb(0, 0, 255)\" stroke-dasharray=\"none\" stroke-width=\"1\" x1=\"190.860804268365\" x2=\"190.860804268365\" y1=\"1.25\" y2=\"-0.75\"/>\n<line stroke=\"rgb(0, 0, 255)\" stroke-dasharray=\"none\" stroke-width=\"1\" x1=\"181.26761747729023\" x2=\"182.13364288107468\" y1=\"0.75\" y2=\"1.25\"/>\n<line stroke=\"rgb(0, 0, 255)\" stroke-dasharray=\"none\" stroke-width=\"1\" x1=\"181.26761747729023\" x2=\"182.13364288107468\" y1=\"-1.25\" y2=\"-0.75\"/>\n<line stroke=\"rgb(0, 0, 255)\" stroke-dasharray=\"1\" stroke-width=\"1\" x1=\"189.99477886458055\" x2=\"190.860804268365\" y1=\"0.75\" y2=\"1.25\"/>\n<line stroke=\"rgb(0, 0, 255)\" stroke-dasharray=\"none\" stroke-width=\"1\" x1=\"189.99477886458055\" x2=\"190.860804268365\" y1=\"-1.25\" y2=\"-0.75\"/>\n<line stroke=\"rgb(0, 0, 255)\" stroke-dasharray=\"1\" stroke-width=\"1\" x1=\"181.26761747729023\" x2=\"189.99477886458055\" y1=\"0.75\" y2=\"0.75\"/>\n<line stroke=\"rgb(0, 0, 255)\" stroke-dasharray=\"none\" stroke-width=\"1\" x1=\"182.13364288107468\" x2=\"190.860804268365\" y1=\"1.25\" y2=\"1.25\"/>\n<line stroke=\"rgb(0, 0, 255)\" stroke-dasharray=\"none\" stroke-width=\"1\" x1=\"181.26761747729023\" x2=\"189.99477886458055\" y1=\"-1.25\" y2=\"-1.25\"/>\n<line stroke=\"rgb(0, 0, 255)\" stroke-dasharray=\"none\" stroke-width=\"1\" x1=\"182.13364288107468\" x2=\"190.860804268365\" y1=\"-0.75\" y2=\"-0.75\"/>\n<line stroke=\"rgb(0, 0, 255)\" stroke-dasharray=\"none\" stroke-width=\"1\" x1=\"189.99477886458055\" x2=\"232.7011082514069\" y1=\"-1.25\" y2=\"-1.5625\"/>\n<line stroke=\"rgb(0, 0, 255)\" stroke-dasharray=\"none\" stroke-width=\"1\" x1=\"190.860804268365\" x2=\"232.7011082514069\" y1=\"1.25\" y2=\"-1.5625\"/>\n<text fill=\"rgb(0, 0, 0)\" font-family=\"arial\" font-size=\"8px\" text-anchor=\"middle\" x=\"212.15984237404163\" y=\"23.25\">maxpool2x2</text>\n<text fill=\"rgb(0, 0, 0)\" font-family=\"arial\" font-size=\"8px\" text-anchor=\"middle\" x=\"212.15984237404163\" y=\"31.25\">stride (2, 2)</text>\n<text fill=\"rgb(0, 0, 0)\" font-family=\"arial\" font-size=\"8px\" text-anchor=\"middle\" x=\"263.05206727079303\" y=\"74.30533009309246\">flatten</text>\n<line stroke=\"rgb(0, 0, 255)\" stroke-dasharray=\"2\" stroke-width=\"1\" x1=\"291.05206727079303\" x2=\"331.05206727079303\" y1=\"-57.30533009309247\" y2=\"-12.125732532083187\"/>\n<line stroke=\"rgb(0, 0, 255)\" stroke-dasharray=\"2\" stroke-width=\"1\" x1=\"291.05206727079303\" x2=\"331.05206727079303\" y1=\"57.30533009309247\" y2=\"-12.125732532083187\"/>\n<text fill=\"rgb(0, 0, 0)\" font-family=\"arial\" font-size=\"8px\" text-anchor=\"middle\" x=\"311.05206727079303\" y=\"74.30533009309246\">dense</text>\n<line stroke=\"rgb(0, 0, 255)\" stroke-dasharray=\"2\" stroke-width=\"1\" x1=\"339.05206727079303\" x2=\"379.05206727079303\" y1=\"-24.251465064166375\" y2=\"-5.71631314909158\"/>\n<line stroke=\"rgb(0, 0, 255)\" stroke-dasharray=\"2\" stroke-width=\"1\" x1=\"339.05206727079303\" x2=\"379.05206727079303\" y1=\"24.251465064166375\" y2=\"-5.71631314909158\"/>\n<text fill=\"rgb(0, 0, 0)\" font-family=\"arial\" font-size=\"8px\" text-anchor=\"middle\" x=\"359.05206727079303\" y=\"41.251465064166375\">dense</text>\n<line stroke=\"rgb(0, 0, 255)\" stroke-dasharray=\"2\" stroke-width=\"1\" x1=\"387.05206727079303\" x2=\"427.05206727079303\" y1=\"-11.43262629818316\" y2=\"-1.5773933612004833\"/>\n<line stroke=\"rgb(0, 0, 255)\" stroke-dasharray=\"2\" stroke-width=\"1\" x1=\"387.05206727079303\" x2=\"427.05206727079303\" y1=\"11.43262629818316\" y2=\"-1.5773933612004833\"/>\n<text fill=\"rgb(0, 0, 0)\" font-family=\"arial\" font-size=\"8px\" text-anchor=\"middle\" x=\"407.05206727079303\" y=\"28.43262629818316\">dense</text>\n</svg>"
          },
          "metadata": {
            "tags": []
          },
          "execution_count": 9
        }
      ]
    },
    {
      "metadata": {
        "slideshow": {
          "slide_type": "subslide"
        },
        "id": "oimZkxbMgcGq",
        "colab_type": "text"
      },
      "cell_type": "markdown",
      "source": [
        "#### Useful resources:\n",
        "\n",
        "- Sequential model: https://keras.io/getting-started/sequential-model-guide/\n",
        "- What is *Dropout*?: http://jmlr.org/papers/v15/srivastava14a.html"
      ]
    },
    {
      "metadata": {
        "slideshow": {
          "slide_type": "subslide"
        },
        "id": "tT81uuyngcGr",
        "colab_type": "text"
      },
      "cell_type": "markdown",
      "source": [
        "### Building the model:"
      ]
    },
    {
      "metadata": {
        "slideshow": {
          "slide_type": "fragment"
        },
        "id": "f1I8xjdmgcGt",
        "colab_type": "code",
        "colab": {
          "base_uri": "https://localhost:8080/",
          "height": 442
        },
        "outputId": "97676fe5-10bf-4e04-8059-3ac8d97f6fe8"
      },
      "cell_type": "code",
      "source": [
        "# Build the model:\n",
        "model = Pimped_LeNet5()\n",
        "model.summary()"
      ],
      "execution_count": 10,
      "outputs": [
        {
          "output_type": "stream",
          "text": [
            "_________________________________________________________________\n",
            "Layer (type)                 Output Shape              Param #   \n",
            "=================================================================\n",
            "conv2d_1 (Conv2D)            (None, 30, 24, 24)        780       \n",
            "_________________________________________________________________\n",
            "max_pooling2d_1 (MaxPooling2 (None, 30, 12, 12)        0         \n",
            "_________________________________________________________________\n",
            "conv2d_2 (Conv2D)            (None, 15, 10, 10)        4065      \n",
            "_________________________________________________________________\n",
            "max_pooling2d_2 (MaxPooling2 (None, 15, 5, 5)          0         \n",
            "_________________________________________________________________\n",
            "dropout_1 (Dropout)          (None, 15, 5, 5)          0         \n",
            "_________________________________________________________________\n",
            "flatten_1 (Flatten)          (None, 375)               0         \n",
            "_________________________________________________________________\n",
            "dense_1 (Dense)              (None, 128)               48128     \n",
            "_________________________________________________________________\n",
            "dense_2 (Dense)              (None, 50)                6450      \n",
            "_________________________________________________________________\n",
            "dense_3 (Dense)              (None, 10)                510       \n",
            "=================================================================\n",
            "Total params: 59,933\n",
            "Trainable params: 59,933\n",
            "Non-trainable params: 0\n",
            "_________________________________________________________________\n"
          ],
          "name": "stdout"
        }
      ]
    },
    {
      "metadata": {
        "slideshow": {
          "slide_type": "subslide"
        },
        "id": "pzUh_EGJgcGx",
        "colab_type": "text"
      },
      "cell_type": "markdown",
      "source": [
        "### Training the model:"
      ]
    },
    {
      "metadata": {
        "slideshow": {
          "slide_type": "fragment"
        },
        "id": "Exh55y9GgcGz",
        "colab_type": "code",
        "colab": {
          "base_uri": "https://localhost:8080/",
          "height": 391
        },
        "outputId": "9d735b1d-17b6-46d6-b11c-a3e043d1ef7c"
      },
      "cell_type": "code",
      "source": [
        "# Fit the model\n",
        "model.fit(X_train, y_train, validation_data=(X_test, y_test), epochs=10, batch_size=200)"
      ],
      "execution_count": 11,
      "outputs": [
        {
          "output_type": "stream",
          "text": [
            "Train on 60000 samples, validate on 10000 samples\n",
            "Epoch 1/10\n",
            "60000/60000 [==============================] - 7s 113us/step - loss: 0.4044 - acc: 0.8739 - val_loss: 0.0872 - val_acc: 0.9740\n",
            "Epoch 2/10\n",
            "60000/60000 [==============================] - 4s 69us/step - loss: 0.0999 - acc: 0.9687 - val_loss: 0.0494 - val_acc: 0.9849\n",
            "Epoch 3/10\n",
            "60000/60000 [==============================] - 4s 69us/step - loss: 0.0730 - acc: 0.9776 - val_loss: 0.0444 - val_acc: 0.9857\n",
            "Epoch 4/10\n",
            "60000/60000 [==============================] - 4s 69us/step - loss: 0.0597 - acc: 0.9811 - val_loss: 0.0348 - val_acc: 0.9884\n",
            "Epoch 5/10\n",
            "60000/60000 [==============================] - 4s 68us/step - loss: 0.0516 - acc: 0.9839 - val_loss: 0.0338 - val_acc: 0.9890\n",
            "Epoch 6/10\n",
            "60000/60000 [==============================] - 4s 68us/step - loss: 0.0451 - acc: 0.9855 - val_loss: 0.0303 - val_acc: 0.9911\n",
            "Epoch 7/10\n",
            "60000/60000 [==============================] - 4s 69us/step - loss: 0.0391 - acc: 0.9880 - val_loss: 0.0282 - val_acc: 0.9906\n",
            "Epoch 8/10\n",
            "60000/60000 [==============================] - 4s 68us/step - loss: 0.0347 - acc: 0.9887 - val_loss: 0.0290 - val_acc: 0.9905\n",
            "Epoch 9/10\n",
            "60000/60000 [==============================] - 4s 69us/step - loss: 0.0321 - acc: 0.9898 - val_loss: 0.0244 - val_acc: 0.9918\n",
            "Epoch 10/10\n",
            "60000/60000 [==============================] - 4s 69us/step - loss: 0.0291 - acc: 0.9907 - val_loss: 0.0250 - val_acc: 0.9917\n"
          ],
          "name": "stdout"
        },
        {
          "output_type": "execute_result",
          "data": {
            "text/plain": [
              "<keras.callbacks.History at 0x7f7e7edc86d8>"
            ]
          },
          "metadata": {
            "tags": []
          },
          "execution_count": 11
        }
      ]
    },
    {
      "metadata": {
        "slideshow": {
          "slide_type": "subslide"
        },
        "id": "kFr0i1YVgcG5",
        "colab_type": "text"
      },
      "cell_type": "markdown",
      "source": [
        "### Evaluating the results:"
      ]
    },
    {
      "metadata": {
        "slideshow": {
          "slide_type": "fragment"
        },
        "id": "J9wu-22egcG7",
        "colab_type": "code",
        "colab": {
          "base_uri": "https://localhost:8080/",
          "height": 68
        },
        "outputId": "d0ba7136-a23a-46f9-b960-84db0654b190"
      },
      "cell_type": "code",
      "source": [
        "# Final evaluation of the model:\n",
        "scores = model.evaluate(X_test, y_test, verbose=1)\n",
        "print('Test score:', scores[0])\n",
        "print('Test accuracy:', scores[1])"
      ],
      "execution_count": 12,
      "outputs": [
        {
          "output_type": "stream",
          "text": [
            "10000/10000 [==============================] - 1s 93us/step\n",
            "Test score: 0.024985579999053154\n",
            "Test accuracy: 0.9917\n"
          ],
          "name": "stdout"
        }
      ]
    },
    {
      "metadata": {
        "slideshow": {
          "slide_type": "slide"
        },
        "id": "_M7eip0mgcHD",
        "colab_type": "text"
      },
      "cell_type": "markdown",
      "source": [
        "## Saving a model:\n",
        "\n",
        "We will basically do two things:\n",
        "\n",
        "1. Serialize the model into a JSON file, which will save the architecture of our model.\n",
        "2. Serialize the weights into a HDF5 file, which will save all parameters of our model."
      ]
    },
    {
      "metadata": {
        "slideshow": {
          "slide_type": "subslide"
        },
        "id": "LK14i7JMgcHF",
        "colab_type": "code",
        "colab": {
          "base_uri": "https://localhost:8080/",
          "height": 34
        },
        "outputId": "edb729fb-13a3-49d0-c3fa-c2f9f02e2ee9"
      },
      "cell_type": "code",
      "source": [
        "# Serialize model to JSON:\n",
        "model_json = model.to_json()\n",
        "with open(\"model.json\", \"w\") as json_file:\n",
        "    json_file.write(model_json)\n",
        "\n",
        "# Serialize weights to HDF5 (h5py needed):\n",
        "model.save_weights(\"model.h5\")\n",
        "print(\"Saved model to disk\")"
      ],
      "execution_count": 13,
      "outputs": [
        {
          "output_type": "stream",
          "text": [
            "Saved model to disk\n"
          ],
          "name": "stdout"
        }
      ]
    },
    {
      "metadata": {
        "slideshow": {
          "slide_type": "subslide"
        },
        "id": "AfHSmOJegcHI",
        "colab_type": "text"
      },
      "cell_type": "markdown",
      "source": [
        "## Loading a model:\n",
        "\n",
        "We will basically do two things:\n",
        "\n",
        "1. Load the model from a JSON file.\n",
        "2. Load the weights from a HDF5 file."
      ]
    },
    {
      "metadata": {
        "slideshow": {
          "slide_type": "subslide"
        },
        "id": "TT6hIrJegcHK",
        "colab_type": "code",
        "colab": {
          "base_uri": "https://localhost:8080/",
          "height": 34
        },
        "outputId": "02cc7871-8838-40dc-f749-7e23f9b2169a"
      },
      "cell_type": "code",
      "source": [
        "# Load json and create model:\n",
        "from keras.models import model_from_json\n",
        "\n",
        "json_file = open('model.json', 'r')\n",
        "loaded_model_json = json_file.read()\n",
        "json_file.close()\n",
        "loaded_model = model_from_json(loaded_model_json)\n",
        "\n",
        "# Load weights into loaded model:\n",
        "loaded_model.load_weights(\"model.h5\")\n",
        "print(\"Loaded model from disk\")"
      ],
      "execution_count": 14,
      "outputs": [
        {
          "output_type": "stream",
          "text": [
            "Loaded model from disk\n"
          ],
          "name": "stdout"
        }
      ]
    },
    {
      "metadata": {
        "slideshow": {
          "slide_type": "notes"
        },
        "id": "hmnXaS3FgcHM",
        "colab_type": "text"
      },
      "cell_type": "markdown",
      "source": [
        "### Evaluate loaded model:"
      ]
    },
    {
      "metadata": {
        "slideshow": {
          "slide_type": "notes"
        },
        "id": "RxkdCJm9gcHN",
        "colab_type": "code",
        "colab": {
          "base_uri": "https://localhost:8080/",
          "height": 68
        },
        "outputId": "77c83e3e-b8c3-4d01-a2e4-4966ce187321"
      },
      "cell_type": "code",
      "source": [
        "# Evaluate loaded model on test data:\n",
        "loaded_model.compile(loss='binary_crossentropy', optimizer='rmsprop', metrics=['accuracy'])\n",
        "score = loaded_model.evaluate(X_test, y_test, verbose=1)\n",
        "print('Test score:', score[0])\n",
        "print('Test accuracy:', score[1])"
      ],
      "execution_count": 15,
      "outputs": [
        {
          "output_type": "stream",
          "text": [
            "10000/10000 [==============================] - 1s 105us/step\n",
            "Test score: 0.004678058291060733\n",
            "Test accuracy: 0.9983699966430664\n"
          ],
          "name": "stdout"
        }
      ]
    },
    {
      "metadata": {
        "slideshow": {
          "slide_type": "slide"
        },
        "id": "Q0d22HBagcHQ",
        "colab_type": "text"
      },
      "cell_type": "markdown",
      "source": [
        "#### Predicting from an image\n",
        "\n",
        "Now that we have a model, how do we use it?\n",
        "\n",
        "It is as simple as follows:"
      ]
    },
    {
      "metadata": {
        "slideshow": {
          "slide_type": "fragment"
        },
        "id": "99V7USEMgcHS",
        "colab_type": "code",
        "colab": {
          "base_uri": "https://localhost:8080/",
          "height": 136
        },
        "outputId": "dfcab08b-fbc4-4492-872c-727feab7ebc5"
      },
      "cell_type": "code",
      "source": [
        "# Remembering that the first image from the training set is a 5:\n",
        "print(\"OHE label: {}\".format(y_train[0]))\n",
        "print(\"So, the 0-9 label would be: {}\".format(numpy.argmax(y_train[0])))\n",
        "print()\n",
        "\n",
        "# Let's now print a prediction:\n",
        "print(\"Prediction of first image: {}\".format(model.predict(X_train[0:1])))\n",
        "print(\"So, the 0-9 prediction would be: {}\".format(numpy.argmax(model.predict(X_train[0:1]))))\n",
        "print()"
      ],
      "execution_count": 16,
      "outputs": [
        {
          "output_type": "stream",
          "text": [
            "OHE label: [0. 0. 0. 0. 0. 1. 0. 0. 0. 0.]\n",
            "So, the 0-9 label would be: 5\n",
            "\n",
            "Prediction of first image: [[1.1685384e-09 3.4529467e-07 3.2610924e-08 8.4468551e-02 2.2640560e-08\n",
            "  9.1550165e-01 7.1044013e-08 2.4645312e-06 6.1670630e-06 2.0730755e-05]]\n",
            "So, the 0-9 prediction would be: 5\n",
            "\n"
          ],
          "name": "stdout"
        }
      ]
    },
    {
      "metadata": {
        "slideshow": {
          "slide_type": "notes"
        },
        "id": "5i5S_DUigcHX",
        "colab_type": "code",
        "colab": {}
      },
      "cell_type": "code",
      "source": [
        ""
      ],
      "execution_count": 0,
      "outputs": []
    }
  ]
}